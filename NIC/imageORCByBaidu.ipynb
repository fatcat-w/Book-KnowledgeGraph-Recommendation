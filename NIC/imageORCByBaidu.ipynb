{
 "cells": [
  {
   "cell_type": "code",
   "execution_count": 1,
   "metadata": {},
   "outputs": [],
   "source": [
    "import base64\n",
    "import urllib\n",
    "from typing import BinaryIO\n",
    "from urllib.parse import urlencode\n",
    "from urllib import request\n",
    "import requests\n",
    "from urllib.request import urlopen\n",
    "import json"
   ]
  },
  {
   "cell_type": "code",
   "execution_count": 2,
   "metadata": {},
   "outputs": [
    {
     "name": "stdout",
     "output_type": "stream",
     "text": [
      "{'refresh_token': '25.7200e9f80edbe5d0233e7155e8a79d78.315360000.1889157260.282335-17777841', 'expires_in': 2592000, 'session_key': '9mzdDoqTgKqbjkTSiw8dphC7kAR9xXWpaLczi++JSsBa364H4ECRKP4Dz7ZK9X07f0lQ5BOSc3cMnRUtg7QEmKMrv4Qczg==', 'access_token': '24.58e631105e236dc0e7a3883602c1aa2a.2592000.1576389260.282335-17777841', 'scope': 'public vis-ocr_ocr brain_ocr_scope brain_ocr_general brain_ocr_general_basic vis-ocr_business_license brain_ocr_webimage brain_all_scope brain_ocr_idcard brain_ocr_driving_license brain_ocr_vehicle_license vis-ocr_plate_number brain_solution brain_ocr_plate_number brain_ocr_accurate brain_ocr_accurate_basic brain_ocr_receipt brain_ocr_business_license brain_solution_iocr brain_qrcode brain_ocr_handwriting brain_ocr_passport brain_ocr_vat_invoice brain_numbers brain_ocr_business_card brain_ocr_train_ticket brain_ocr_taxi_receipt vis-ocr_household_register vis-ocr_vis-classify_birth_certificate vis-ocr_台湾通行证 vis-ocr_港澳通行证 vis-ocr_机动车检验合格证识别 vis-ocr_车辆vin码识别 vis-ocr_定额发票识别 vis-ocr_保单识别 brain_ocr_vin brain_ocr_quota_invoice brain_ocr_birth_certificate brain_ocr_household_register brain_ocr_HK_Macau_pass brain_ocr_taiwan_pass brain_ocr_vehicle_certificate brain_ocr_insurance_doc wise_adapt lebo_resource_base lightservice_public hetu_basic lightcms_map_poi kaidian_kaidian ApsMisTest_Test权限 vis-classify_flower lpq_开放 cop_helloScope ApsMis_fangdi_permission smartapp_snsapi_base iop_autocar oauth_tp_app smartapp_smart_game_openapi oauth_sessionkey smartapp_swanid_verify smartapp_opensource_openapi smartapp_opensource_recapi fake_face_detect_开放Scope vis-ocr_虚拟人物助理 idl-video_虚拟人物助理', 'session_secret': '5c3ee4c62cf7eb4ebbd0c82241e40275'}\n"
     ]
    }
   ],
   "source": [
    "# client_id 为官网获取的AK， client_secret 为官网获取的SK\n",
    "host = 'https://aip.baidubce.com/oauth/2.0/token?grant_type=client_credentials&client_id=UYzCYjOQ2N0C8YGGqxBM7fPy&client_secret=Da6ns1aTi3CyXGFMvrQUQ5s7tBGGwelT'\n",
    "response = requests.get(host)\n",
    "if response:\n",
    "    print(response.json())"
   ]
  },
  {
   "cell_type": "code",
   "execution_count": 3,
   "metadata": {},
   "outputs": [
    {
     "data": {
      "text/plain": [
       "'24.58e631105e236dc0e7a3883602c1aa2a.2592000.1576389260.282335-17777841'"
      ]
     },
     "execution_count": 3,
     "metadata": {},
     "output_type": "execute_result"
    }
   ],
   "source": [
    "access_token = response.json().get('access_token')\n",
    "access_token"
   ]
  },
  {
   "cell_type": "code",
   "execution_count": 5,
   "metadata": {},
   "outputs": [
    {
     "name": "stdout",
     "output_type": "stream",
     "text": [
      "{\"log_id\": 1679651814961274671, \"words_result_num\": 25, \"words_result\": [{\"location\": {\"width\": 397, \"top\": 7, \"left\": 263, \"height\": 29}, \"words\": \"0先客A50%11:47PM\"}, {\"location\": {\"width\": 533, \"top\": 41, \"left\": 36, \"height\": 41}, \"words\": \"Party loyalty is often cited as the\"}, {\"location\": {\"width\": 546, \"top\": 85, \"left\": 33, \"height\": 38}, \"words\": \"reason that goP leaders have not\"}, {\"location\": {\"width\": 486, \"top\": 133, \"left\": 35, \"height\": 37}, \"words\": \"been more outspoken in their\"}, {\"location\": {\"width\": 594, \"top\": 178, \"left\": 34, \"height\": 44}, \"words\": \"criticism of President Donald Trump\"}, {\"location\": {\"width\": 576, \"top\": 227, \"left\": 36, \"height\": 35}, \"words\": \"and his refusal to condemn russias\"}, {\"location\": {\"width\": 593, \"top\": 272, \"left\": 34, \"height\": 44}, \"words\": \"interference in the 2016 presidential\"}, {\"location\": {\"width\": 560, \"top\": 321, \"left\": 36, \"height\": 35}, \"words\": \"election. Yet there may be another\"}, {\"location\": {\"width\": 544, \"top\": 367, \"left\": 33, \"height\": 43}, \"words\": \"reason that top republicans have\"}, {\"location\": {\"width\": 458, \"top\": 412, \"left\": 35, \"height\": 41}, \"words\": \"not been more vocal in their\"}, {\"location\": {\"width\": 576, \"top\": 461, \"left\": 36, \"height\": 38}, \"words\": \"condemnation. Perhaps it's because\"}, {\"location\": {\"width\": 518, \"top\": 507, \"left\": 33, \"height\": 44}, \"words\": \"they have their own links to the\"}, {\"location\": {\"width\": 556, \"top\": 554, \"left\": 32, \"height\": 44}, \"words\": \"Russian oligarchy that they would\"}, {\"location\": {\"width\": 333, \"top\": 601, \"left\": 35, \"height\": 43}, \"words\": \"prefer go unnoticed\"}, {\"location\": {\"width\": 514, \"top\": 694, \"left\": 34, \"height\": 44}, \"words\": \"Donald Trump and the political\"}, {\"location\": {\"width\": 460, \"top\": 744, \"left\": 36, \"height\": 34}, \"words\": \"action committees for mitch\"}, {\"location\": {\"width\": 504, \"top\": 790, \"left\": 36, \"height\": 37}, \"words\": \"McConnell. marco rubio. Scott\"}, {\"location\": {\"width\": 493, \"top\": 836, \"left\": 34, \"height\": 42}, \"words\": \"Walker, Lindsey Graham, John\"}, {\"location\": {\"width\": 546, \"top\": 883, \"left\": 36, \"height\": 35}, \"words\": \"Kasich and John Mc Cain accepted\"}, {\"location\": {\"width\": 597, \"top\": 926, \"left\": 36, \"height\": 41}, \"words\": \"S7. 35 million in contributions from a\"}, {\"location\": {\"width\": 573, \"top\": 974, \"left\": 34, \"height\": 45}, \"words\": \"Ukrainian-born oligarch who is the\"}, {\"location\": {\"width\": 556, \"top\": 1021, \"left\": 35, \"height\": 38}, \"words\": \"business partner of two of russian\"}, {\"location\": {\"width\": 567, \"top\": 1069, \"left\": 32, \"height\": 46}, \"words\": \"president Vladimir Putins favorite\"}, {\"location\": {\"width\": 590, \"top\": 1116, \"left\": 35, \"height\": 43}, \"words\": \"oligarchs and a Russian government\"}, {\"location\": {\"width\": 87, \"top\": 1165, \"left\": 36, \"height\": 34}, \"words\": \"bank\"}]}\n"
     ]
    }
   ],
   "source": [
    "url = 'https://aip.baidubce.com/rest/2.0/ocr/v1/general?access_token=' + access_token\n",
    "f: BinaryIO = open(r'F:\\国创\\新建文件夹\\pan18-author-profiling-test-2018-03-20\\en\\photo\\1a8fbba9174814ba64088a8da6af1272\\1a8fbba9174814ba64088a8da6af1272.1.jpeg', 'rb')\n",
    "op: bytes=f.read()\n",
    "imgR = base64.b64encode(op)\n",
    "params={'image':imgR}\n",
    "params2 = urllib.parse.urlencode(params).encode(encoding='UTF8')\n",
    "requests = request.Request(url, params2)\n",
    "requests.add_header('Content-Type', 'application/x-www-form-urlencoded')\n",
    "response = urlopen(requests)\n",
    "content: object = response.read()\n",
    "result: object=content.decode()\n",
    "print(result)\n"
   ]
  },
  {
   "cell_type": "code",
   "execution_count": 6,
   "metadata": {},
   "outputs": [
    {
     "name": "stdout",
     "output_type": "stream",
     "text": [
      "0先客A50%11:47PM\n",
      "Party loyalty is often cited as the\n",
      "reason that goP leaders have not\n",
      "been more outspoken in their\n",
      "criticism of President Donald Trump\n",
      "and his refusal to condemn russias\n",
      "interference in the 2016 presidential\n",
      "election. Yet there may be another\n",
      "reason that top republicans have\n",
      "not been more vocal in their\n",
      "condemnation. Perhaps it's because\n",
      "they have their own links to the\n",
      "Russian oligarchy that they would\n",
      "prefer go unnoticed\n",
      "Donald Trump and the political\n",
      "action committees for mitch\n",
      "McConnell. marco rubio. Scott\n",
      "Walker, Lindsey Graham, John\n",
      "Kasich and John Mc Cain accepted\n",
      "S7. 35 million in contributions from a\n",
      "Ukrainian-born oligarch who is the\n",
      "business partner of two of russian\n",
      "president Vladimir Putins favorite\n",
      "oligarchs and a Russian government\n",
      "bank\n"
     ]
    }
   ],
   "source": [
    "json1=json.loads(result)\n",
    "jsonArray=json1['words_result']\n",
    "for i in range (len(jsonArray)):\n",
    "    words=jsonArray[i]['words']\n",
    "    print(words)"
   ]
  },
  {
   "cell_type": "code",
   "execution_count": 7,
   "metadata": {},
   "outputs": [
    {
     "name": "stdout",
     "output_type": "stream",
     "text": [
      "固国\n",
      "B点配国\n",
      "色\n"
     ]
    }
   ],
   "source": [
    "url = 'https://aip.baidubce.com/rest/2.0/ocr/v1/general?access_token=' + access_token\n",
    "f: BinaryIO = open(r'F:\\国创\\新建文件夹\\pan18-author-profiling-test-2018-03-20\\en\\photo\\1a8fbba9174814ba64088a8da6af1272\\1a8fbba9174814ba64088a8da6af1272.7.jpeg', 'rb')\n",
    "op: bytes=f.read()\n",
    "imgR = base64.b64encode(op)\n",
    "params={'image':imgR}\n",
    "params2 = urllib.parse.urlencode(params).encode(encoding='UTF8')\n",
    "request = request.Request(url, params2)\n",
    "request.add_header('Content-Type', 'application/x-www-form-urlencoded')\n",
    "response = urlopen(request)\n",
    "content: object = response.read()\n",
    "result: object=content.decode()\n",
    "json1=json.loads(result)\n",
    "jsonArray=json1['words_result']\n",
    "for i in range (len(jsonArray)):\n",
    "    words=jsonArray[i]['words']\n",
    "    print(words)"
   ]
  },
  {
   "cell_type": "code",
   "execution_count": 1,
   "metadata": {},
   "outputs": [
    {
     "ename": "ModuleNotFoundError",
     "evalue": "No module named 'Cpython'",
     "output_type": "error",
     "traceback": [
      "\u001b[1;31m---------------------------------------------------------------------------\u001b[0m",
      "\u001b[1;31mModuleNotFoundError\u001b[0m                       Traceback (most recent call last)",
      "\u001b[1;32m<ipython-input-1-239c69e7ae62>\u001b[0m in \u001b[0;36m<module>\u001b[1;34m\u001b[0m\n\u001b[1;32m----> 1\u001b[1;33m \u001b[1;32mimport\u001b[0m \u001b[0mCpython\u001b[0m\u001b[1;33m\u001b[0m\u001b[1;33m\u001b[0m\u001b[0m\n\u001b[0m",
      "\u001b[1;31mModuleNotFoundError\u001b[0m: No module named 'Cpython'"
     ]
    }
   ],
   "source": [
    "import Cpython"
   ]
  },
  {
   "cell_type": "code",
   "execution_count": null,
   "metadata": {},
   "outputs": [],
   "source": []
  },
  {
   "cell_type": "code",
   "execution_count": null,
   "metadata": {},
   "outputs": [],
   "source": []
  }
 ],
 "metadata": {
  "kernelspec": {
   "display_name": "Python [conda env:tensor] *",
   "language": "python",
   "name": "conda-env-tensor-py"
  },
  "language_info": {
   "codemirror_mode": {
    "name": "ipython",
    "version": 3
   },
   "file_extension": ".py",
   "mimetype": "text/x-python",
   "name": "python",
   "nbconvert_exporter": "python",
   "pygments_lexer": "ipython3",
   "version": "3.6.7"
  }
 },
 "nbformat": 4,
 "nbformat_minor": 2
}
