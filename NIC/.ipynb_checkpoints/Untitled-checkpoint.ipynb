{
 "cells": [
  {
   "cell_type": "code",
   "execution_count": 2,
   "metadata": {},
   "outputs": [],
   "source": [
    "import requests\n",
    "import json\n",
    "from lxml import etree\n",
    "import pandas as pd\n",
    "import re\n",
    "import math"
   ]
  },
  {
   "cell_type": "code",
   "execution_count": 7,
   "metadata": {},
   "outputs": [],
   "source": [
    "def getPage(photourl):\n",
    "    simulateChromeBrowserData = {\n",
    "        'Accept':'*/*',\n",
    "        'Accept-Encoding':'gzip, deflate',\n",
    "        'Accept-Language':'zh-CN,zh;q=0.8',\n",
    "        'Connection':'keep-alive',\n",
    "        'Host':'sz.meituan.com',\n",
    "        'Referer':'http://wh.meituan.com/meishi/',\n",
    "        # 'Cookie': '_lxsdk_cuid=16212a00d8ec8-07cdb6596bad8e-178123e-1fa400-16212a00d8fc8; lat=22.780886; lng=113.906362; client-id=34908f62-ea11-4211-b60a-f62c32288b2e; uuid=9be4f96971ac4c9cab4c.1520730903.1.0.0; webloc_geo=22.527181%2C113.938582%2Cwgs84; ci=30; _lxsdk=16212a1cddfc8-011369480302e7-178123e-1fa400-16212a1cddfc8; __mta=247430459.1520730902128.1520731016684.1520731025187.5; _lxsdk_s=16212a00d8f-c83-6e-376%7C%7C9',\n",
    "        'User-Agent':'Mozilla/5.0 (Windows NT 10.0; Win64; x64) AppleWebKit/537.36 (KHTML, like Gecko) Chrome/76.0.3809.100 Safari/537.36'\n",
    "    }\n",
    "    purl='https://v0fkjw6l82.execute-api.us-west-2.amazonaws.com/prod/auto-alt-text-api?'\n",
    "    params = {\n",
    "        'url' : photourl \n",
    "    }\n",
    "    page = requests.get(purl,params=params)\n",
    "    return page"
   ]
  },
  {
   "cell_type": "code",
   "execution_count": 55,
   "metadata": {},
   "outputs": [],
   "source": [
    "def parse_image_Json(image_list):#保留置信度最高的图片描述\n",
    "    image_data = pd.DataFrame()\n",
    "    for eachShopInfo in image_list:\n",
    "        sentence = eachShopInfo.get('sentence')\n",
    "        prob = float(eachShopInfo.get('prob'))\n",
    "        \n",
    "    image_data = image_data.append(pd.DataFrame({'sentence':[sentence],'prob':[prob]}))\n",
    "    return image_data"
   ]
  },
  {
   "cell_type": "code",
   "execution_count": 43,
   "metadata": {},
   "outputs": [],
   "source": [
    "photourl = 'https://s2.ax1x.com/2019/11/17/MrmKiQ.jpg'\n",
    "page = getPage(photourl)\n",
    "image_json=page.json()[0]"
   ]
  },
  {
   "cell_type": "code",
   "execution_count": 54,
   "metadata": {},
   "outputs": [
    {
     "data": {
      "text/html": [
       "<div>\n",
       "<style scoped>\n",
       "    .dataframe tbody tr th:only-of-type {\n",
       "        vertical-align: middle;\n",
       "    }\n",
       "\n",
       "    .dataframe tbody tr th {\n",
       "        vertical-align: top;\n",
       "    }\n",
       "\n",
       "    .dataframe thead th {\n",
       "        text-align: right;\n",
       "    }\n",
       "</style>\n",
       "<table border=\"1\" class=\"dataframe\">\n",
       "  <thead>\n",
       "    <tr style=\"text-align: right;\">\n",
       "      <th></th>\n",
       "      <th>sentence</th>\n",
       "      <th>prob</th>\n",
       "    </tr>\n",
       "  </thead>\n",
       "  <tbody>\n",
       "    <tr>\n",
       "      <td>0</td>\n",
       "      <td>a pan filled with lots of food on top of a sto...</td>\n",
       "      <td>0.000152</td>\n",
       "    </tr>\n",
       "    <tr>\n",
       "      <td>0</td>\n",
       "      <td>a pan filled with lots of vegetables on top of...</td>\n",
       "      <td>0.000131</td>\n",
       "    </tr>\n",
       "    <tr>\n",
       "      <td>0</td>\n",
       "      <td>a pan filled with lots of food on top of a sto...</td>\n",
       "      <td>0.000060</td>\n",
       "    </tr>\n",
       "  </tbody>\n",
       "</table>\n",
       "</div>"
      ],
      "text/plain": [
       "                                            sentence      prob\n",
       "0  a pan filled with lots of food on top of a sto...  0.000152\n",
       "0  a pan filled with lots of vegetables on top of...  0.000131\n",
       "0  a pan filled with lots of food on top of a sto...  0.000060"
      ]
     },
     "execution_count": 54,
     "metadata": {},
     "output_type": "execute_result"
    }
   ],
   "source": [
    "image_list = image_json.get('captions')\n",
    "image_data = parse_image_Json(image_list)\n",
    "image_data"
   ]
  },
  {
   "cell_type": "code",
   "execution_count": 35,
   "metadata": {},
   "outputs": [
    {
     "data": {
      "text/plain": [
       "{'url': 'https://s2.ax1x.com/2019/11/17/MrmKiQ.jpg',\n",
       " 'captions': [{'prob': '0.000152',\n",
       "   'sentence': 'a pan filled with lots of food on top of a stove .'},\n",
       "  {'prob': '0.000131',\n",
       "   'sentence': 'a pan filled with lots of vegetables on top of a stove .'},\n",
       "  {'prob': '0.000060',\n",
       "   'sentence': 'a pan filled with lots of food on top of a stove top .'}]}"
      ]
     },
     "execution_count": 35,
     "metadata": {},
     "output_type": "execute_result"
    }
   ],
   "source": []
  },
  {
   "cell_type": "code",
   "execution_count": null,
   "metadata": {},
   "outputs": [],
   "source": []
  }
 ],
 "metadata": {
  "kernelspec": {
   "display_name": "Python [conda env:tensor] *",
   "language": "python",
   "name": "conda-env-tensor-py"
  },
  "language_info": {
   "codemirror_mode": {
    "name": "ipython",
    "version": 3
   },
   "file_extension": ".py",
   "mimetype": "text/x-python",
   "name": "python",
   "nbconvert_exporter": "python",
   "pygments_lexer": "ipython3",
   "version": "3.6.7"
  }
 },
 "nbformat": 4,
 "nbformat_minor": 2
}
