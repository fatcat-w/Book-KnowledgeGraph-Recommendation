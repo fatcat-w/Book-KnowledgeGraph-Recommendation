{
 "cells": [
  {
   "cell_type": "code",
   "execution_count": 1,
   "metadata": {},
   "outputs": [],
   "source": [
    "import requests\n",
    "import json\n",
    "from lxml import etree\n",
    "import pandas as pd\n",
    "import re\n",
    "import math"
   ]
  },
  {
   "cell_type": "code",
   "execution_count": 5,
   "metadata": {},
   "outputs": [],
   "source": [
    "def parse_image_Json(image_list):\n",
    "    # 保留置信度最高的图片描述\n",
    "    # 将描述转化为dataframe格式存储\n",
    "    # 前置函数依赖于 get_image\n",
    "    max = 0\n",
    "    sentence = ''\n",
    "    for eachShopInfo in image_list:\n",
    "        prob = float(eachShopInfo.get('prob'))\n",
    "        if prob > max :\n",
    "            sentence = eachShopInfo.get('sentence')\n",
    "            max = prob\n",
    "    caption_data = pd.DataFrame({'sentence':[sentence],'prob':[max]})\n",
    "    return caption_data\n",
    "def get_image(author_name , num): \n",
    "    # 对应服务器地址构造请求数据的方法\n",
    "    # input\n",
    "    # author_name 文件夹名称 eg '1069f66c9d5862f860277d32780ac459'\n",
    "    # num 图片序号\n",
    "    # 前置函数依赖于 getPage\n",
    "    photourl_1 = 'http://120.79.8.250:8080/wwwroot/NIC_DATA/photo_test/'\n",
    "    photourl_2 = author_name + '/'+ author_name + '.'+ str(num) +'.jpg'\n",
    "    page = getPage(photourl_1 + photourl_2)\n",
    "    image_json=page.json()[0]\n",
    "    image_list = image_json.get('captions')\n",
    "    return image_list\n",
    "def getPage(photourl): #调用API获得返回的请求page\n",
    "    purl='https://v0fkjw6l82.execute-api.us-west-2.amazonaws.com/prod/auto-alt-text-api?'\n",
    "    params = {\n",
    "        'url' : photourl \n",
    "    }\n",
    "    page = requests.get(purl,params=params)\n",
    "    return page"
   ]
  },
  {
   "cell_type": "code",
   "execution_count": 6,
   "metadata": {},
   "outputs": [],
   "source": [
    "author_name = '1069f66c9d5862f860277d32780ac459'\n",
    "image_data = pd.DataFrame()"
   ]
  },
  {
   "cell_type": "code",
   "execution_count": 7,
   "metadata": {},
   "outputs": [
    {
     "data": {
      "text/html": [
       "<div>\n",
       "<style scoped>\n",
       "    .dataframe tbody tr th:only-of-type {\n",
       "        vertical-align: middle;\n",
       "    }\n",
       "\n",
       "    .dataframe tbody tr th {\n",
       "        vertical-align: top;\n",
       "    }\n",
       "\n",
       "    .dataframe thead th {\n",
       "        text-align: right;\n",
       "    }\n",
       "</style>\n",
       "<table border=\"1\" class=\"dataframe\">\n",
       "  <thead>\n",
       "    <tr style=\"text-align: right;\">\n",
       "      <th></th>\n",
       "      <th>sentence</th>\n",
       "      <th>prob</th>\n",
       "    </tr>\n",
       "  </thead>\n",
       "  <tbody>\n",
       "    <tr>\n",
       "      <td>0</td>\n",
       "      <td>several bottles of wine sitting on a counter .</td>\n",
       "      <td>0.000247</td>\n",
       "    </tr>\n",
       "    <tr>\n",
       "      <td>0</td>\n",
       "      <td>a man in a suit and tie holding a cell phone .</td>\n",
       "      <td>0.000009</td>\n",
       "    </tr>\n",
       "    <tr>\n",
       "      <td>0</td>\n",
       "      <td>a woman in a red shirt is talking on a cellphone</td>\n",
       "      <td>0.000020</td>\n",
       "    </tr>\n",
       "    <tr>\n",
       "      <td>0</td>\n",
       "      <td>a man in a suit and tie holding a cell phone .</td>\n",
       "      <td>0.000011</td>\n",
       "    </tr>\n",
       "    <tr>\n",
       "      <td>0</td>\n",
       "      <td>a close up of a pair of scissors</td>\n",
       "      <td>0.002374</td>\n",
       "    </tr>\n",
       "    <tr>\n",
       "      <td>0</td>\n",
       "      <td>a woman in a white dress holding a white frisb...</td>\n",
       "      <td>0.000009</td>\n",
       "    </tr>\n",
       "    <tr>\n",
       "      <td>0</td>\n",
       "      <td>a group of people standing next to each other .</td>\n",
       "      <td>0.000233</td>\n",
       "    </tr>\n",
       "    <tr>\n",
       "      <td>0</td>\n",
       "      <td>a man wearing a tie and a hat .</td>\n",
       "      <td>0.000092</td>\n",
       "    </tr>\n",
       "    <tr>\n",
       "      <td>0</td>\n",
       "      <td>a piece of cake on a plate with a fork .</td>\n",
       "      <td>0.000728</td>\n",
       "    </tr>\n",
       "    <tr>\n",
       "      <td>0</td>\n",
       "      <td>a red fire hydrant sitting in the middle of a ...</td>\n",
       "      <td>0.000486</td>\n",
       "    </tr>\n",
       "  </tbody>\n",
       "</table>\n",
       "</div>"
      ],
      "text/plain": [
       "                                            sentence      prob\n",
       "0     several bottles of wine sitting on a counter .  0.000247\n",
       "0     a man in a suit and tie holding a cell phone .  0.000009\n",
       "0   a woman in a red shirt is talking on a cellphone  0.000020\n",
       "0     a man in a suit and tie holding a cell phone .  0.000011\n",
       "0                   a close up of a pair of scissors  0.002374\n",
       "0  a woman in a white dress holding a white frisb...  0.000009\n",
       "0    a group of people standing next to each other .  0.000233\n",
       "0                    a man wearing a tie and a hat .  0.000092\n",
       "0           a piece of cake on a plate with a fork .  0.000728\n",
       "0  a red fire hydrant sitting in the middle of a ...  0.000486"
      ]
     },
     "execution_count": 7,
     "metadata": {},
     "output_type": "execute_result"
    }
   ],
   "source": [
    "for i in range(10):\n",
    "    image_list = get_image(author_name,i)\n",
    "    image_data = image_data.append(parse_image_Json(image_list))\n",
    "# 输出遍历一个文件夹的描述信息，保存于image_data\n",
    "image_data"
   ]
  },
  {
   "cell_type": "code",
   "execution_count": null,
   "metadata": {},
   "outputs": [],
   "source": []
  }
 ],
 "metadata": {
  "kernelspec": {
   "display_name": "Python [conda env:tensor] *",
   "language": "python",
   "name": "conda-env-tensor-py"
  },
  "language_info": {
   "codemirror_mode": {
    "name": "ipython",
    "version": 3
   },
   "file_extension": ".py",
   "mimetype": "text/x-python",
   "name": "python",
   "nbconvert_exporter": "python",
   "pygments_lexer": "ipython3",
   "version": "3.6.7"
  }
 },
 "nbformat": 4,
 "nbformat_minor": 2
}