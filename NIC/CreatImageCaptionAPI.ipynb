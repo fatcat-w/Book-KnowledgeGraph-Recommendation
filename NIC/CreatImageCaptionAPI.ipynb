{
 "cells": [
  {
   "cell_type": "code",
   "execution_count": 2,
   "metadata": {},
   "outputs": [],
   "source": [
    "import requests\n",
    "import json\n",
    "from lxml import etree\n",
    "import pandas as pd\n",
    "import re\n",
    "import math"
   ]
  },
  {
   "cell_type": "code",
   "execution_count": 59,
   "metadata": {},
   "outputs": [],
   "source": [
    "def parse_image_Json(image_list):#保留置信度最高的图片描述\n",
    "    image_data = pd.DataFrame()\n",
    "    max = 0\n",
    "    sentence = ''\n",
    "    for eachShopInfo in image_list:\n",
    "        prob = float(eachShopInfo.get('prob'))\n",
    "        if prob > max :\n",
    "            sentence = eachShopInfo.get('sentence')\n",
    "            max = prob\n",
    "    image_data = image_data.append(pd.DataFrame({'sentence':[sentence],'prob':[max]}))\n",
    "    return image_data\n",
    "def get_image(author_name , num):\n",
    "    photourl_1 = 'https://raw.githubusercontent.com/ljyslyc/Book-KnowledgeGraph-Recommendation/master/'\n",
    "    photourl_2 = author_name + '/'+ author_name + '.'+ str(num) +'.jpg'\n",
    "    #page = getPage(photourl_1 + photourl_2)\n",
    "    image_json=page.json()[0]\n",
    "    image_list = image_json.get('captions')\n",
    "    return image_list"
   ]
  },
  {
   "cell_type": "code",
   "execution_count": 107,
   "metadata": {},
   "outputs": [],
   "source": [
    "num = 1\n",
    "author_name = '1a6ce29582265a11b005501fbb92e9f8'"
   ]
  },
  {
   "cell_type": "code",
   "execution_count": 108,
   "metadata": {},
   "outputs": [
    {
     "data": {
      "text/html": [
       "<div>\n",
       "<style scoped>\n",
       "    .dataframe tbody tr th:only-of-type {\n",
       "        vertical-align: middle;\n",
       "    }\n",
       "\n",
       "    .dataframe tbody tr th {\n",
       "        vertical-align: top;\n",
       "    }\n",
       "\n",
       "    .dataframe thead th {\n",
       "        text-align: right;\n",
       "    }\n",
       "</style>\n",
       "<table border=\"1\" class=\"dataframe\">\n",
       "  <thead>\n",
       "    <tr style=\"text-align: right;\">\n",
       "      <th></th>\n",
       "      <th>sentence</th>\n",
       "      <th>prob</th>\n",
       "    </tr>\n",
       "  </thead>\n",
       "  <tbody>\n",
       "    <tr>\n",
       "      <td>0</td>\n",
       "      <td>a picture of a man holding a cell phone .</td>\n",
       "      <td>0.000026</td>\n",
       "    </tr>\n",
       "    <tr>\n",
       "      <td>0</td>\n",
       "      <td>a picture of a man holding a wii controller .</td>\n",
       "      <td>0.000013</td>\n",
       "    </tr>\n",
       "    <tr>\n",
       "      <td>0</td>\n",
       "      <td>a picture of a man holding a wii remote .</td>\n",
       "      <td>0.000012</td>\n",
       "    </tr>\n",
       "  </tbody>\n",
       "</table>\n",
       "</div>"
      ],
      "text/plain": [
       "                                        sentence      prob\n",
       "0      a picture of a man holding a cell phone .  0.000026\n",
       "0  a picture of a man holding a wii controller .  0.000013\n",
       "0      a picture of a man holding a wii remote .  0.000012"
      ]
     },
     "execution_count": 108,
     "metadata": {},
     "output_type": "execute_result"
    }
   ],
   "source": [
    "for i in range(10):\n",
    "    image_list = get_image()\n",
    "    image_data = parse_image_Json(image_list)\n",
    "image_data"
   ]
  },
  {
   "cell_type": "code",
   "execution_count": 92,
   "metadata": {},
   "outputs": [
    {
     "data": {
      "text/html": [
       "<div>\n",
       "<style scoped>\n",
       "    .dataframe tbody tr th:only-of-type {\n",
       "        vertical-align: middle;\n",
       "    }\n",
       "\n",
       "    .dataframe tbody tr th {\n",
       "        vertical-align: top;\n",
       "    }\n",
       "\n",
       "    .dataframe thead th {\n",
       "        text-align: right;\n",
       "    }\n",
       "</style>\n",
       "<table border=\"1\" class=\"dataframe\">\n",
       "  <thead>\n",
       "    <tr style=\"text-align: right;\">\n",
       "      <th></th>\n",
       "      <th>sentence</th>\n",
       "      <th>prob</th>\n",
       "    </tr>\n",
       "  </thead>\n",
       "  <tbody>\n",
       "    <tr>\n",
       "      <td>0</td>\n",
       "      <td>There was an error,                           ...</td>\n",
       "      <td>-1.0</td>\n",
       "    </tr>\n",
       "  </tbody>\n",
       "</table>\n",
       "</div>"
      ],
      "text/plain": [
       "                                            sentence  prob\n",
       "0  There was an error,                           ...  -1.0"
      ]
     },
     "execution_count": 92,
     "metadata": {},
     "output_type": "execute_result"
    }
   ],
   "source": [
    "def parse_image_Json(image_list):#保留置信度最高的图片描述\n",
    "    image_data = pd.DataFrame()\n",
    "    max = 0\n",
    "    sentence = ''\n",
    "    for eachShopInfo in image_list:\n",
    "        prob = float(eachShopInfo.get('prob'))\n",
    "        sentence = eachShopInfo.get('sentence')\n",
    "        image_data = image_data.append(pd.DataFrame({'sentence':[sentence],'prob':[prob]}))\n",
    "    return image_data\n",
    "image_list = image_json.get('captions')\n",
    "image_data = parse_image_Json(image_list)\n",
    "image_data"
   ]
  },
  {
   "cell_type": "code",
   "execution_count": 118,
   "metadata": {},
   "outputs": [
    {
     "data": {
      "text/plain": [
       "'[{\"url\": \"https://s2.ax1x.com/2019/11/17/MsQ0mR.jpg\", \"captions\": [{\"prob\": \"0.000144\", \"sentence\": \"a man in a suit and tie standing in a room .\"}, {\"prob\": \"0.000120\", \"sentence\": \"a man in a suit and tie standing in front of a microphone .\"}, {\"prob\": \"0.000043\", \"sentence\": \"a man in a suit and tie standing in front of a screen .\"}]}]'"
      ]
     },
     "execution_count": 118,
     "metadata": {},
     "output_type": "execute_result"
    }
   ],
   "source": [
    "def getPage(photourl):\n",
    "    purl='https://v0fkjw6l82.execute-api.us-west-2.amazonaws.com/prod/auto-alt-text-api?'\n",
    "    params = {\n",
    "        'url' : photourl \n",
    "    }\n",
    "    page = requests.get(purl,params=params)\n",
    "    return page\n",
    "photourl = 'https://s2.ax1x.com/2019/11/17/MsQ0mR.jpg'\n",
    "page = getPage(photourl)\n",
    "page.text"
   ]
  },
  {
   "cell_type": "code",
   "execution_count": 114,
   "metadata": {},
   "outputs": [],
   "source": [
    "# -*- coding: utf-8 -*-\n",
    "import oss2\n",
    "import os\n",
    "\n",
    "# 阿里云主账号AccessKey拥有所有API的访问权限，风险很高。强烈建议您创建并使用RAM账号进行API访问或日常运维，请登录 https://ram.console.aliyun.com 创建RAM账号。\n",
    "auth = oss2.Auth('LTAI4FjUuz55fhMN8gQP3huC', 'SugSvELvDLugvWYOOziZeNnOnDLII6')\n",
    "# Endpoint以杭州为例，其它Region请按实际情况填写。\n",
    "bucket = oss2.Bucket(auth, 'http://oss-cn-shenzhen.aliyuncs.com', 'ljy0001')\n",
    "\n",
    "# 必须以二进制的方式打开文件，因为需要知道文件包含的字节数。\n",
    "with open('F:\\\\github\\\\Book-KnowledgeGraph-Recommendation\\\\NIC\\\\ImageData\\\\photo_train\\\\1a6ce29582265a11b005501fbb92e9f8\\\\1a6ce29582265a11b005501fbb92e9f8.0.jpg', 'rb') as fileobj:\n",
    "    # Seek方法用于指定从第1000个字节位置开始读写。上传时会从您指定的第1000个字节位置开始上传，直到文件结束。\n",
    "    #fileobj.seek(1000, os.SEEK_SET)\n",
    "    # Tell方法用于返回当前位置。\n",
    "    #current = fileobj.tell()\n",
    "    bucket.put_object('1a6ce29582265a11b005501fbb92e9f8.0.jpg', fileobj)"
   ]
  },
  {
   "cell_type": "code",
   "execution_count": null,
   "metadata": {},
   "outputs": [],
   "source": []
  }
 ],
 "metadata": {
  "kernelspec": {
   "display_name": "Python [conda env:tensor] *",
   "language": "python",
   "name": "conda-env-tensor-py"
  },
  "language_info": {
   "codemirror_mode": {
    "name": "ipython",
    "version": 3
   },
   "file_extension": ".py",
   "mimetype": "text/x-python",
   "name": "python",
   "nbconvert_exporter": "python",
   "pygments_lexer": "ipython3",
   "version": "3.6.7"
  }
 },
 "nbformat": 4,
 "nbformat_minor": 2
}
