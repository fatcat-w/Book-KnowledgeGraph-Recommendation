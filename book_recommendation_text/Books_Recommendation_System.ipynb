{
 "cells": [
  {
   "cell_type": "markdown",
   "metadata": {
    "colab_type": "text",
    "id": "clDIOmE-Iybb"
   },
   "source": [
    "# About Book Crossing Dataset\n",
    "\n",
    "**This dataset has been compiled by Cai-Nicolas Ziegler in 2004, and it comprises of three tables for users, books and ratings. Explicit ratings are expressed on a scale from 1-10 (higher values denoting higher appreciation) and implicit rating is expressed by 0.**\n",
    "\n",
    "## Link to dataset files\n",
    "http://www2.informatik.uni-freiburg.de/~cziegler/BX/\n",
    "\n",
    "## About this Project\n",
    "\n",
    "**This project entails building a Book Recommender System for users based on user-based and item-based collaborative filtering approaches**"
   ]
  },
  {
   "cell_type": "code",
   "execution_count": 0,
   "metadata": {
    "colab": {
     "base_uri": "https://localhost:8080/",
     "height": 1546
    },
    "colab_type": "code",
    "id": "c_9g3FCVJAsF",
    "outputId": "7b7e69bc-7341-4646-d3e8-7f50529c11ea"
   },
   "outputs": [
    {
     "name": "stdout",
     "output_type": "stream",
     "text": [
      "  % Total    % Received % Xferd  Average Speed   Time    Time     Time  Current\n",
      "                                 Dload  Upload   Total   Spent    Left  Speed\n",
      "\r",
      "  0     0    0     0    0     0      0      0 --:--:-- --:--:-- --:--:--     0\r",
      "100   665  100   665    0     0   3197      0 --:--:-- --:--:-- --:--:--  3197\n",
      "Collecting pillow==4.1.1\n",
      "\u001b[?25l  Downloading https://files.pythonhosted.org/packages/36/e5/88b3d60924a3f8476fa74ec086f5fbaba56dd6cee0d82845f883b6b6dd18/Pillow-4.1.1-cp36-cp36m-manylinux1_x86_64.whl (5.7MB)\n",
      "\u001b[K    100% |████████████████████████████████| 5.7MB 6.6MB/s \n",
      "\u001b[?25hRequirement already satisfied, skipping upgrade: olefile in /usr/local/lib/python3.6/dist-packages (from pillow==4.1.1) (0.46)\n",
      "Installing collected packages: pillow\n",
      "  Found existing installation: Pillow 4.0.0\n",
      "    Uninstalling Pillow-4.0.0:\n",
      "      Successfully uninstalled Pillow-4.0.0\n",
      "Successfully installed pillow-4.1.1\n",
      "Looking in links: https://download.pytorch.org/whl/nightly/cu92/torch_nightly.html\n",
      "Collecting torch_nightly\n",
      "\u001b[?25l  Downloading https://download.pytorch.org/whl/nightly/cu92/torch_nightly-1.0.0.dev20181126-cp36-cp36m-linux_x86_64.whl (576.5MB)\n",
      "\u001b[K    100% |████████████████████████████████| 576.5MB 26kB/s \n",
      "tcmalloc: large alloc 1073750016 bytes == 0x62648000 @  0x7fd63f0232a4 0x591a07 0x5b5d56 0x502e9a 0x506859 0x502209 0x502f3d 0x506859 0x504c28 0x502540 0x502f3d 0x506859 0x504c28 0x502540 0x502f3d 0x506859 0x504c28 0x502540 0x502f3d 0x507641 0x502209 0x502f3d 0x506859 0x504c28 0x502540 0x502f3d 0x507641 0x504c28 0x502540 0x502f3d 0x507641\n",
      "\u001b[?25hInstalling collected packages: torch-nightly\n",
      "Successfully installed torch-nightly-1.0.0.dev20181126\n",
      "Cloning into 'course-v3'...\n",
      "remote: Enumerating objects: 2450, done.\u001b[K\n",
      "remote: Total 2450 (delta 0), reused 0 (delta 0), pack-reused 2450\u001b[K\n",
      "Receiving objects: 100% (2450/2450), 59.09 MiB | 26.54 MiB/s, done.\n",
      "Resolving deltas: 100% (1338/1338), done.\n",
      "Collecting fastai\n",
      "\u001b[?25l  Downloading https://files.pythonhosted.org/packages/9a/fe/9686231cc2ed81a7096abda19d93ca43532d7b130a12d1ada8746ba75e72/fastai-1.0.28-py3-none-any.whl (120kB)\n",
      "\u001b[K    100% |████████████████████████████████| 122kB 4.1MB/s \n",
      "\u001b[?25hRequirement already satisfied, skipping upgrade: scipy in /usr/local/lib/python3.6/dist-packages (from fastai) (1.1.0)\n",
      "Requirement already satisfied, skipping upgrade: spacy==2.0.16 in /usr/local/lib/python3.6/dist-packages (from fastai) (2.0.16)\n",
      "Collecting dataclasses (from fastai)\n",
      "  Downloading https://files.pythonhosted.org/packages/26/2f/1095cdc2868052dd1e64520f7c0d5c8c550ad297e944e641dbf1ffbb9a5d/dataclasses-0.6-py3-none-any.whl\n",
      "Requirement already satisfied, skipping upgrade: typing in /usr/local/lib/python3.6/dist-packages (from fastai) (3.6.6)\n",
      "Requirement already satisfied, skipping upgrade: thinc==6.12.0 in /usr/local/lib/python3.6/dist-packages (from fastai) (6.12.0)\n",
      "Requirement already satisfied, skipping upgrade: regex in /usr/local/lib/python3.6/dist-packages (from fastai) (2018.1.10)\n",
      "Requirement already satisfied, skipping upgrade: numpy>=1.12 in /usr/local/lib/python3.6/dist-packages (from fastai) (1.14.6)\n",
      "Requirement already satisfied, skipping upgrade: Pillow in /usr/local/lib/python3.6/dist-packages (from fastai) (4.1.1)\n",
      "Requirement already satisfied, skipping upgrade: pandas in /usr/local/lib/python3.6/dist-packages (from fastai) (0.22.0)\n",
      "Collecting bottleneck (from fastai)\n",
      "\u001b[?25l  Downloading https://files.pythonhosted.org/packages/05/ae/cedf5323f398ab4e4ff92d6c431a3e1c6a186f9b41ab3e8258dff786a290/Bottleneck-1.2.1.tar.gz (105kB)\n",
      "\u001b[K    100% |████████████████████████████████| 112kB 5.3MB/s \n",
      "\u001b[?25hRequirement already satisfied, skipping upgrade: pyyaml in /usr/local/lib/python3.6/dist-packages (from fastai) (3.13)\n",
      "Requirement already satisfied, skipping upgrade: matplotlib in /usr/local/lib/python3.6/dist-packages (from fastai) (2.1.2)\n",
      "Requirement already satisfied, skipping upgrade: cymem==2.0.2 in /usr/local/lib/python3.6/dist-packages (from fastai) (2.0.2)\n",
      "Requirement already satisfied, skipping upgrade: requests in /usr/local/lib/python3.6/dist-packages (from fastai) (2.18.4)\n",
      "Collecting fastprogress>=0.1.15 (from fastai)\n",
      "  Downloading https://files.pythonhosted.org/packages/dc/b8/7ce2b3c6f886f5cb1b16e62d368456b4fdb7e16bba962571bc50dae49b30/fastprogress-0.1.15-py3-none-any.whl\n",
      "Collecting numexpr (from fastai)\n",
      "\u001b[?25l  Downloading https://files.pythonhosted.org/packages/db/ea/efd9e16283637eb5b6c0042b6cc3521f1b9a5b47767ac463c88bbd37670c/numexpr-2.6.8-cp36-cp36m-manylinux1_x86_64.whl (162kB)\n",
      "\u001b[K    100% |████████████████████████████████| 163kB 5.6MB/s \n",
      "\u001b[?25hCollecting torchvision-nightly (from fastai)\n",
      "\u001b[?25l  Downloading https://files.pythonhosted.org/packages/ca/bd/d0f9a33c81c79710eb7ee428b66869b49a8be16c7f1e446c211a7fbfb7be/torchvision_nightly-0.2.1-py2.py3-none-any.whl (54kB)\n",
      "\u001b[K    100% |████████████████████████████████| 61kB 8.7MB/s \n",
      "\u001b[?25hRequirement already satisfied, skipping upgrade: dill<0.3,>=0.2 in /usr/local/lib/python3.6/dist-packages (from spacy==2.0.16->fastai) (0.2.8.2)\n",
      "Requirement already satisfied, skipping upgrade: ujson>=1.35 in /usr/local/lib/python3.6/dist-packages (from spacy==2.0.16->fastai) (1.35)\n",
      "Requirement already satisfied, skipping upgrade: plac<1.0.0,>=0.9.6 in /usr/local/lib/python3.6/dist-packages (from spacy==2.0.16->fastai) (0.9.6)\n",
      "Requirement already satisfied, skipping upgrade: msgpack-numpy<0.4.4 in /usr/local/lib/python3.6/dist-packages (from spacy==2.0.16->fastai) (0.4.3.2)\n",
      "Requirement already satisfied, skipping upgrade: preshed<2.1.0,>=2.0.1 in /usr/local/lib/python3.6/dist-packages (from spacy==2.0.16->fastai) (2.0.1)\n",
      "Requirement already satisfied, skipping upgrade: murmurhash<1.1.0,>=0.28.0 in /usr/local/lib/python3.6/dist-packages (from spacy==2.0.16->fastai) (1.0.1)\n",
      "Requirement already satisfied, skipping upgrade: wrapt<1.11.0,>=1.10.0 in /usr/local/lib/python3.6/dist-packages (from thinc==6.12.0->fastai) (1.10.11)\n",
      "Requirement already satisfied, skipping upgrade: cytoolz<0.10,>=0.9.0 in /usr/local/lib/python3.6/dist-packages (from thinc==6.12.0->fastai) (0.9.0.1)\n",
      "Requirement already satisfied, skipping upgrade: tqdm<5.0.0,>=4.10.0 in /usr/local/lib/python3.6/dist-packages (from thinc==6.12.0->fastai) (4.28.1)\n",
      "Requirement already satisfied, skipping upgrade: six<2.0.0,>=1.10.0 in /usr/local/lib/python3.6/dist-packages (from thinc==6.12.0->fastai) (1.11.0)\n",
      "Requirement already satisfied, skipping upgrade: msgpack<1.0.0,>=0.5.6 in /usr/local/lib/python3.6/dist-packages (from thinc==6.12.0->fastai) (0.5.6)\n",
      "Requirement already satisfied, skipping upgrade: olefile in /usr/local/lib/python3.6/dist-packages (from Pillow->fastai) (0.46)\n",
      "Requirement already satisfied, skipping upgrade: python-dateutil>=2 in /usr/local/lib/python3.6/dist-packages (from pandas->fastai) (2.5.3)\n",
      "Requirement already satisfied, skipping upgrade: pytz>=2011k in /usr/local/lib/python3.6/dist-packages (from pandas->fastai) (2018.7)\n",
      "Requirement already satisfied, skipping upgrade: pyparsing!=2.0.4,!=2.1.2,!=2.1.6,>=2.0.1 in /usr/local/lib/python3.6/dist-packages (from matplotlib->fastai) (2.3.0)\n",
      "Requirement already satisfied, skipping upgrade: cycler>=0.10 in /usr/local/lib/python3.6/dist-packages (from matplotlib->fastai) (0.10.0)\n",
      "Requirement already satisfied, skipping upgrade: urllib3<1.23,>=1.21.1 in /usr/local/lib/python3.6/dist-packages (from requests->fastai) (1.22)\n",
      "Requirement already satisfied, skipping upgrade: chardet<3.1.0,>=3.0.2 in /usr/local/lib/python3.6/dist-packages (from requests->fastai) (3.0.4)\n",
      "Requirement already satisfied, skipping upgrade: idna<2.7,>=2.5 in /usr/local/lib/python3.6/dist-packages (from requests->fastai) (2.6)\n",
      "Requirement already satisfied, skipping upgrade: certifi>=2017.4.17 in /usr/local/lib/python3.6/dist-packages (from requests->fastai) (2018.10.15)\n",
      "Requirement already satisfied, skipping upgrade: toolz>=0.8.0 in /usr/local/lib/python3.6/dist-packages (from cytoolz<0.10,>=0.9.0->thinc==6.12.0->fastai) (0.9.0)\n",
      "Building wheels for collected packages: bottleneck\n",
      "  Running setup.py bdist_wheel for bottleneck ... \u001b[?25l-\b \b\\\b \b|\b \b/\b \b-\b \b\\\b \b|\b \b/\b \bdone\n",
      "\u001b[?25h  Stored in directory: /root/.cache/pip/wheels/f2/bf/ec/e0f39aa27001525ad455139ee57ec7d0776fe074dfd78c97e4\n",
      "Successfully built bottleneck\n",
      "Installing collected packages: dataclasses, bottleneck, fastprogress, numexpr, torchvision-nightly, fastai\n",
      "Successfully installed bottleneck-1.2.1 dataclasses-0.6 fastai-1.0.28 fastprogress-0.1.15 numexpr-2.6.8 torchvision-nightly-0.2.1\n",
      "Already up to date.\n"
     ]
    }
   ],
   "source": [
    "!curl https://course-v3.fast.ai/setup/colab | bash"
   ]
  },
  {
   "cell_type": "code",
   "execution_count": 0,
   "metadata": {
    "colab": {},
    "colab_type": "code",
    "id": "P89E-EmORIPa"
   },
   "outputs": [],
   "source": [
    "import pandas as pd\n",
    "import numpy as np\n"
   ]
  },
  {
   "cell_type": "code",
   "execution_count": 0,
   "metadata": {
    "colab": {},
    "colab_type": "code",
    "id": "KFJzWXTKQnBU"
   },
   "outputs": [],
   "source": [
    "ratings = pd.read_csv('BX-Book-Ratings.csv', delimiter=\";\", encoding=\"latin1\")\n",
    "ratings.columns = ['userId', 'ISBN', 'bookRating']"
   ]
  },
  {
   "cell_type": "code",
   "execution_count": 0,
   "metadata": {
    "colab": {
     "base_uri": "https://localhost:8080/",
     "height": 206
    },
    "colab_type": "code",
    "id": "1p7If1U9Sg5p",
    "outputId": "852d4c54-0af7-4b6d-b7ef-93445dd09041"
   },
   "outputs": [
    {
     "data": {
      "text/html": [
       "<div>\n",
       "<style scoped>\n",
       "    .dataframe tbody tr th:only-of-type {\n",
       "        vertical-align: middle;\n",
       "    }\n",
       "\n",
       "    .dataframe tbody tr th {\n",
       "        vertical-align: top;\n",
       "    }\n",
       "\n",
       "    .dataframe thead th {\n",
       "        text-align: right;\n",
       "    }\n",
       "</style>\n",
       "<table border=\"1\" class=\"dataframe\">\n",
       "  <thead>\n",
       "    <tr style=\"text-align: right;\">\n",
       "      <th></th>\n",
       "      <th>userId</th>\n",
       "      <th>ISBN</th>\n",
       "      <th>bookRating</th>\n",
       "    </tr>\n",
       "  </thead>\n",
       "  <tbody>\n",
       "    <tr>\n",
       "      <th>0</th>\n",
       "      <td>276725</td>\n",
       "      <td>034545104X</td>\n",
       "      <td>0</td>\n",
       "    </tr>\n",
       "    <tr>\n",
       "      <th>1</th>\n",
       "      <td>276726</td>\n",
       "      <td>0155061224</td>\n",
       "      <td>5</td>\n",
       "    </tr>\n",
       "    <tr>\n",
       "      <th>2</th>\n",
       "      <td>276727</td>\n",
       "      <td>0446520802</td>\n",
       "      <td>0</td>\n",
       "    </tr>\n",
       "    <tr>\n",
       "      <th>3</th>\n",
       "      <td>276729</td>\n",
       "      <td>052165615X</td>\n",
       "      <td>3</td>\n",
       "    </tr>\n",
       "    <tr>\n",
       "      <th>4</th>\n",
       "      <td>276729</td>\n",
       "      <td>0521795028</td>\n",
       "      <td>6</td>\n",
       "    </tr>\n",
       "  </tbody>\n",
       "</table>\n",
       "</div>"
      ],
      "text/plain": [
       "   userId        ISBN  bookRating\n",
       "0  276725  034545104X           0\n",
       "1  276726  0155061224           5\n",
       "2  276727  0446520802           0\n",
       "3  276729  052165615X           3\n",
       "4  276729  0521795028           6"
      ]
     },
     "execution_count": 7,
     "metadata": {
      "tags": []
     },
     "output_type": "execute_result"
    }
   ],
   "source": [
    "ratings.head(5)"
   ]
  },
  {
   "cell_type": "code",
   "execution_count": 0,
   "metadata": {
    "colab": {},
    "colab_type": "code",
    "id": "-Tz9khC0Y36R"
   },
   "outputs": [],
   "source": [
    "users = pd.read_csv('BX-Users.csv', delimiter=\";\", encoding=\"latin1\")\n",
    "users.columns = ['userId', 'location', 'age']"
   ]
  },
  {
   "cell_type": "code",
   "execution_count": 0,
   "metadata": {
    "colab": {
     "base_uri": "https://localhost:8080/",
     "height": 206
    },
    "colab_type": "code",
    "id": "EQHReTz6Zrvm",
    "outputId": "368e2c24-232e-4165-f017-6f058739f39c"
   },
   "outputs": [
    {
     "data": {
      "text/html": [
       "<div>\n",
       "<style scoped>\n",
       "    .dataframe tbody tr th:only-of-type {\n",
       "        vertical-align: middle;\n",
       "    }\n",
       "\n",
       "    .dataframe tbody tr th {\n",
       "        vertical-align: top;\n",
       "    }\n",
       "\n",
       "    .dataframe thead th {\n",
       "        text-align: right;\n",
       "    }\n",
       "</style>\n",
       "<table border=\"1\" class=\"dataframe\">\n",
       "  <thead>\n",
       "    <tr style=\"text-align: right;\">\n",
       "      <th></th>\n",
       "      <th>userId</th>\n",
       "      <th>location</th>\n",
       "      <th>age</th>\n",
       "    </tr>\n",
       "  </thead>\n",
       "  <tbody>\n",
       "    <tr>\n",
       "      <th>0</th>\n",
       "      <td>1</td>\n",
       "      <td>nyc, new york, usa</td>\n",
       "      <td>NaN</td>\n",
       "    </tr>\n",
       "    <tr>\n",
       "      <th>1</th>\n",
       "      <td>2</td>\n",
       "      <td>stockton, california, usa</td>\n",
       "      <td>18.0</td>\n",
       "    </tr>\n",
       "    <tr>\n",
       "      <th>2</th>\n",
       "      <td>3</td>\n",
       "      <td>moscow, yukon territory, russia</td>\n",
       "      <td>NaN</td>\n",
       "    </tr>\n",
       "    <tr>\n",
       "      <th>3</th>\n",
       "      <td>4</td>\n",
       "      <td>porto, v.n.gaia, portugal</td>\n",
       "      <td>17.0</td>\n",
       "    </tr>\n",
       "    <tr>\n",
       "      <th>4</th>\n",
       "      <td>5</td>\n",
       "      <td>farnborough, hants, united kingdom</td>\n",
       "      <td>NaN</td>\n",
       "    </tr>\n",
       "  </tbody>\n",
       "</table>\n",
       "</div>"
      ],
      "text/plain": [
       "   userId                            location   age\n",
       "0       1                  nyc, new york, usa   NaN\n",
       "1       2           stockton, california, usa  18.0\n",
       "2       3     moscow, yukon territory, russia   NaN\n",
       "3       4           porto, v.n.gaia, portugal  17.0\n",
       "4       5  farnborough, hants, united kingdom   NaN"
      ]
     },
     "execution_count": 9,
     "metadata": {
      "tags": []
     },
     "output_type": "execute_result"
    }
   ],
   "source": [
    "users.head()"
   ]
  },
  {
   "cell_type": "code",
   "execution_count": 0,
   "metadata": {
    "colab": {
     "base_uri": "https://localhost:8080/",
     "height": 150
    },
    "colab_type": "code",
    "id": "fwblV96-klbN",
    "outputId": "b0c156d1-fa95-4805-920a-e1e5a3a3c150"
   },
   "outputs": [
    {
     "name": "stderr",
     "output_type": "stream",
     "text": [
      "b'Skipping line 6452: expected 8 fields, saw 9\\nSkipping line 43667: expected 8 fields, saw 10\\nSkipping line 51751: expected 8 fields, saw 9\\n'\n",
      "b'Skipping line 92038: expected 8 fields, saw 9\\nSkipping line 104319: expected 8 fields, saw 9\\nSkipping line 121768: expected 8 fields, saw 9\\n'\n",
      "b'Skipping line 144058: expected 8 fields, saw 9\\nSkipping line 150789: expected 8 fields, saw 9\\nSkipping line 157128: expected 8 fields, saw 9\\nSkipping line 180189: expected 8 fields, saw 9\\nSkipping line 185738: expected 8 fields, saw 9\\n'\n",
      "b'Skipping line 209388: expected 8 fields, saw 9\\nSkipping line 220626: expected 8 fields, saw 9\\nSkipping line 227933: expected 8 fields, saw 11\\nSkipping line 228957: expected 8 fields, saw 10\\nSkipping line 245933: expected 8 fields, saw 9\\nSkipping line 251296: expected 8 fields, saw 9\\nSkipping line 259941: expected 8 fields, saw 9\\nSkipping line 261529: expected 8 fields, saw 9\\n'\n",
      "/usr/local/lib/python3.6/dist-packages/IPython/core/interactiveshell.py:2718: DtypeWarning: Columns (3) have mixed types. Specify dtype option on import or set low_memory=False.\n",
      "  interactivity=interactivity, compiler=compiler, result=result)\n"
     ]
    }
   ],
   "source": [
    "books = pd.read_csv('BX-Books.csv', delimiter=\";\", encoding=\"latin-1\", error_bad_lines=False)\n",
    "books.columns = ['ISBN', 'bookTitle', 'bookAuthor', 'yearOfPublication', 'publisher', 'imageURLS', 'imageURLM', 'imageURLL']"
   ]
  },
  {
   "cell_type": "code",
   "execution_count": 0,
   "metadata": {
    "colab": {
     "base_uri": "https://localhost:8080/",
     "height": 415
    },
    "colab_type": "code",
    "id": "J4qKDQ0_lOag",
    "outputId": "85e9395a-5210-45ec-f74e-7275ccc5d937"
   },
   "outputs": [
    {
     "data": {
      "text/html": [
       "<div>\n",
       "<style scoped>\n",
       "    .dataframe tbody tr th:only-of-type {\n",
       "        vertical-align: middle;\n",
       "    }\n",
       "\n",
       "    .dataframe tbody tr th {\n",
       "        vertical-align: top;\n",
       "    }\n",
       "\n",
       "    .dataframe thead th {\n",
       "        text-align: right;\n",
       "    }\n",
       "</style>\n",
       "<table border=\"1\" class=\"dataframe\">\n",
       "  <thead>\n",
       "    <tr style=\"text-align: right;\">\n",
       "      <th></th>\n",
       "      <th>ISBN</th>\n",
       "      <th>bookTitle</th>\n",
       "      <th>bookAuthor</th>\n",
       "      <th>yearOfPublication</th>\n",
       "      <th>publisher</th>\n",
       "      <th>imageURLS</th>\n",
       "      <th>imageURLM</th>\n",
       "      <th>imageURLL</th>\n",
       "    </tr>\n",
       "  </thead>\n",
       "  <tbody>\n",
       "    <tr>\n",
       "      <th>0</th>\n",
       "      <td>0195153448</td>\n",
       "      <td>Classical Mythology</td>\n",
       "      <td>Mark P. O. Morford</td>\n",
       "      <td>2002</td>\n",
       "      <td>Oxford University Press</td>\n",
       "      <td>http://images.amazon.com/images/P/0195153448.0...</td>\n",
       "      <td>http://images.amazon.com/images/P/0195153448.0...</td>\n",
       "      <td>http://images.amazon.com/images/P/0195153448.0...</td>\n",
       "    </tr>\n",
       "    <tr>\n",
       "      <th>1</th>\n",
       "      <td>0002005018</td>\n",
       "      <td>Clara Callan</td>\n",
       "      <td>Richard Bruce Wright</td>\n",
       "      <td>2001</td>\n",
       "      <td>HarperFlamingo Canada</td>\n",
       "      <td>http://images.amazon.com/images/P/0002005018.0...</td>\n",
       "      <td>http://images.amazon.com/images/P/0002005018.0...</td>\n",
       "      <td>http://images.amazon.com/images/P/0002005018.0...</td>\n",
       "    </tr>\n",
       "    <tr>\n",
       "      <th>2</th>\n",
       "      <td>0060973129</td>\n",
       "      <td>Decision in Normandy</td>\n",
       "      <td>Carlo D'Este</td>\n",
       "      <td>1991</td>\n",
       "      <td>HarperPerennial</td>\n",
       "      <td>http://images.amazon.com/images/P/0060973129.0...</td>\n",
       "      <td>http://images.amazon.com/images/P/0060973129.0...</td>\n",
       "      <td>http://images.amazon.com/images/P/0060973129.0...</td>\n",
       "    </tr>\n",
       "    <tr>\n",
       "      <th>3</th>\n",
       "      <td>0374157065</td>\n",
       "      <td>Flu: The Story of the Great Influenza Pandemic...</td>\n",
       "      <td>Gina Bari Kolata</td>\n",
       "      <td>1999</td>\n",
       "      <td>Farrar Straus Giroux</td>\n",
       "      <td>http://images.amazon.com/images/P/0374157065.0...</td>\n",
       "      <td>http://images.amazon.com/images/P/0374157065.0...</td>\n",
       "      <td>http://images.amazon.com/images/P/0374157065.0...</td>\n",
       "    </tr>\n",
       "    <tr>\n",
       "      <th>4</th>\n",
       "      <td>0393045218</td>\n",
       "      <td>The Mummies of Urumchi</td>\n",
       "      <td>E. J. W. Barber</td>\n",
       "      <td>1999</td>\n",
       "      <td>W. W. Norton &amp;amp; Company</td>\n",
       "      <td>http://images.amazon.com/images/P/0393045218.0...</td>\n",
       "      <td>http://images.amazon.com/images/P/0393045218.0...</td>\n",
       "      <td>http://images.amazon.com/images/P/0393045218.0...</td>\n",
       "    </tr>\n",
       "  </tbody>\n",
       "</table>\n",
       "</div>"
      ],
      "text/plain": [
       "         ISBN                                          bookTitle  \\\n",
       "0  0195153448                                Classical Mythology   \n",
       "1  0002005018                                       Clara Callan   \n",
       "2  0060973129                               Decision in Normandy   \n",
       "3  0374157065  Flu: The Story of the Great Influenza Pandemic...   \n",
       "4  0393045218                             The Mummies of Urumchi   \n",
       "\n",
       "             bookAuthor yearOfPublication                   publisher  \\\n",
       "0    Mark P. O. Morford              2002     Oxford University Press   \n",
       "1  Richard Bruce Wright              2001       HarperFlamingo Canada   \n",
       "2          Carlo D'Este              1991             HarperPerennial   \n",
       "3      Gina Bari Kolata              1999        Farrar Straus Giroux   \n",
       "4       E. J. W. Barber              1999  W. W. Norton &amp; Company   \n",
       "\n",
       "                                           imageURLS  \\\n",
       "0  http://images.amazon.com/images/P/0195153448.0...   \n",
       "1  http://images.amazon.com/images/P/0002005018.0...   \n",
       "2  http://images.amazon.com/images/P/0060973129.0...   \n",
       "3  http://images.amazon.com/images/P/0374157065.0...   \n",
       "4  http://images.amazon.com/images/P/0393045218.0...   \n",
       "\n",
       "                                           imageURLM  \\\n",
       "0  http://images.amazon.com/images/P/0195153448.0...   \n",
       "1  http://images.amazon.com/images/P/0002005018.0...   \n",
       "2  http://images.amazon.com/images/P/0060973129.0...   \n",
       "3  http://images.amazon.com/images/P/0374157065.0...   \n",
       "4  http://images.amazon.com/images/P/0393045218.0...   \n",
       "\n",
       "                                           imageURLL  \n",
       "0  http://images.amazon.com/images/P/0195153448.0...  \n",
       "1  http://images.amazon.com/images/P/0002005018.0...  \n",
       "2  http://images.amazon.com/images/P/0060973129.0...  \n",
       "3  http://images.amazon.com/images/P/0374157065.0...  \n",
       "4  http://images.amazon.com/images/P/0393045218.0...  "
      ]
     },
     "execution_count": 11,
     "metadata": {
      "tags": []
     },
     "output_type": "execute_result"
    }
   ],
   "source": [
    "books.head()"
   ]
  },
  {
   "cell_type": "code",
   "execution_count": 0,
   "metadata": {
    "colab": {
     "base_uri": "https://localhost:8080/",
     "height": 74
    },
    "colab_type": "code",
    "id": "-ddZtFaOYaa6",
    "outputId": "a71e2e2c-82c7-444b-9ca3-ffea75099bf3"
   },
   "outputs": [
    {
     "name": "stdout",
     "output_type": "stream",
     "text": [
      "(1149780, 3)\n",
      "(278858, 3)\n",
      "(271360, 8)\n"
     ]
    }
   ],
   "source": [
    "print(ratings.shape)\n",
    "print(users.shape)\n",
    "print(books.shape)\n"
   ]
  },
  {
   "cell_type": "markdown",
   "metadata": {
    "colab_type": "text",
    "id": "UuAuds91b3HO"
   },
   "source": [
    "### **Do we need the images column in Books? Probably not.**"
   ]
  },
  {
   "cell_type": "code",
   "execution_count": 0,
   "metadata": {
    "colab": {},
    "colab_type": "code",
    "id": "d1tGoaG1b2NL"
   },
   "outputs": [],
   "source": [
    "books.drop(['imageURLS','imageURLM','imageURLL'], axis=1, inplace=True)"
   ]
  },
  {
   "cell_type": "code",
   "execution_count": 0,
   "metadata": {
    "colab": {
     "base_uri": "https://localhost:8080/",
     "height": 206
    },
    "colab_type": "code",
    "id": "2VnxugpxfIVL",
    "outputId": "f8485fb7-b757-4005-d10d-c3927120ec67"
   },
   "outputs": [
    {
     "data": {
      "text/html": [
       "<div>\n",
       "<style scoped>\n",
       "    .dataframe tbody tr th:only-of-type {\n",
       "        vertical-align: middle;\n",
       "    }\n",
       "\n",
       "    .dataframe tbody tr th {\n",
       "        vertical-align: top;\n",
       "    }\n",
       "\n",
       "    .dataframe thead th {\n",
       "        text-align: right;\n",
       "    }\n",
       "</style>\n",
       "<table border=\"1\" class=\"dataframe\">\n",
       "  <thead>\n",
       "    <tr style=\"text-align: right;\">\n",
       "      <th></th>\n",
       "      <th>ISBN</th>\n",
       "      <th>bookTitle</th>\n",
       "      <th>bookAuthor</th>\n",
       "      <th>yearOfPublication</th>\n",
       "      <th>publisher</th>\n",
       "    </tr>\n",
       "  </thead>\n",
       "  <tbody>\n",
       "    <tr>\n",
       "      <th>0</th>\n",
       "      <td>0195153448</td>\n",
       "      <td>Classical Mythology</td>\n",
       "      <td>Mark P. O. Morford</td>\n",
       "      <td>2002</td>\n",
       "      <td>Oxford University Press</td>\n",
       "    </tr>\n",
       "    <tr>\n",
       "      <th>1</th>\n",
       "      <td>0002005018</td>\n",
       "      <td>Clara Callan</td>\n",
       "      <td>Richard Bruce Wright</td>\n",
       "      <td>2001</td>\n",
       "      <td>HarperFlamingo Canada</td>\n",
       "    </tr>\n",
       "    <tr>\n",
       "      <th>2</th>\n",
       "      <td>0060973129</td>\n",
       "      <td>Decision in Normandy</td>\n",
       "      <td>Carlo D'Este</td>\n",
       "      <td>1991</td>\n",
       "      <td>HarperPerennial</td>\n",
       "    </tr>\n",
       "    <tr>\n",
       "      <th>3</th>\n",
       "      <td>0374157065</td>\n",
       "      <td>Flu: The Story of the Great Influenza Pandemic...</td>\n",
       "      <td>Gina Bari Kolata</td>\n",
       "      <td>1999</td>\n",
       "      <td>Farrar Straus Giroux</td>\n",
       "    </tr>\n",
       "    <tr>\n",
       "      <th>4</th>\n",
       "      <td>0393045218</td>\n",
       "      <td>The Mummies of Urumchi</td>\n",
       "      <td>E. J. W. Barber</td>\n",
       "      <td>1999</td>\n",
       "      <td>W. W. Norton &amp;amp; Company</td>\n",
       "    </tr>\n",
       "  </tbody>\n",
       "</table>\n",
       "</div>"
      ],
      "text/plain": [
       "         ISBN                                          bookTitle  \\\n",
       "0  0195153448                                Classical Mythology   \n",
       "1  0002005018                                       Clara Callan   \n",
       "2  0060973129                               Decision in Normandy   \n",
       "3  0374157065  Flu: The Story of the Great Influenza Pandemic...   \n",
       "4  0393045218                             The Mummies of Urumchi   \n",
       "\n",
       "             bookAuthor yearOfPublication                   publisher  \n",
       "0    Mark P. O. Morford              2002     Oxford University Press  \n",
       "1  Richard Bruce Wright              2001       HarperFlamingo Canada  \n",
       "2          Carlo D'Este              1991             HarperPerennial  \n",
       "3      Gina Bari Kolata              1999        Farrar Straus Giroux  \n",
       "4       E. J. W. Barber              1999  W. W. Norton &amp; Company  "
      ]
     },
     "execution_count": 14,
     "metadata": {
      "tags": []
     },
     "output_type": "execute_result"
    }
   ],
   "source": [
    "books.head()"
   ]
  },
  {
   "cell_type": "markdown",
   "metadata": {
    "colab_type": "text",
    "id": "WAiJt0zPrYHp"
   },
   "source": [
    "# **DATA WRANGLING**"
   ]
  },
  {
   "cell_type": "code",
   "execution_count": 0,
   "metadata": {
    "colab": {},
    "colab_type": "code",
    "id": "bOxKODAOdOPc"
   },
   "outputs": [],
   "source": []
  },
  {
   "cell_type": "markdown",
   "metadata": {
    "colab_type": "text",
    "id": "nkR5TUrYfg8-"
   },
   "source": [
    "### Let's check the Data Types... \n"
   ]
  },
  {
   "cell_type": "code",
   "execution_count": 0,
   "metadata": {
    "colab": {
     "base_uri": "https://localhost:8080/",
     "height": 92
    },
    "colab_type": "code",
    "id": "om-_iaB_fgIN",
    "outputId": "de18a4dc-b346-4c28-9522-404f31e8b4b6"
   },
   "outputs": [
    {
     "data": {
      "text/plain": [
       "userId         int64\n",
       "ISBN          object\n",
       "bookRating     int64\n",
       "dtype: object"
      ]
     },
     "execution_count": 15,
     "metadata": {
      "tags": []
     },
     "output_type": "execute_result"
    }
   ],
   "source": [
    "ratings.dtypes"
   ]
  },
  {
   "cell_type": "code",
   "execution_count": 0,
   "metadata": {
    "colab": {},
    "colab_type": "code",
    "id": "vOqUAxuHlBA3"
   },
   "outputs": [],
   "source": [
    "pd.set_option('display.max_colwidth', -1)"
   ]
  },
  {
   "cell_type": "code",
   "execution_count": 0,
   "metadata": {
    "colab": {
     "base_uri": "https://localhost:8080/",
     "height": 36
    },
    "colab_type": "code",
    "id": "5g6NsJRCjvke",
    "outputId": "55907251-358a-4f0f-b48a-530b8170ad3e"
   },
   "outputs": [
    {
     "data": {
      "text/plain": [
       "array([ 0,  5,  3,  6,  8,  7, 10,  9,  4,  1,  2])"
      ]
     },
     "execution_count": 17,
     "metadata": {
      "tags": []
     },
     "output_type": "execute_result"
    }
   ],
   "source": [
    "ratings['bookRating'].unique()"
   ]
  },
  {
   "cell_type": "code",
   "execution_count": 0,
   "metadata": {
    "colab": {
     "base_uri": "https://localhost:8080/",
     "height": 92
    },
    "colab_type": "code",
    "id": "9rgORuj1rlpc",
    "outputId": "8c23e38e-3651-4fd7-af34-5e4f39e662b5"
   },
   "outputs": [
    {
     "data": {
      "text/plain": [
       "userId      int64  \n",
       "location    object \n",
       "age         float64\n",
       "dtype: object"
      ]
     },
     "execution_count": 18,
     "metadata": {
      "tags": []
     },
     "output_type": "execute_result"
    }
   ],
   "source": [
    "users.dtypes"
   ]
  },
  {
   "cell_type": "code",
   "execution_count": 0,
   "metadata": {
    "colab": {
     "base_uri": "https://localhost:8080/",
     "height": 130
    },
    "colab_type": "code",
    "id": "zrjsuiG9rrlZ",
    "outputId": "bf6a87ac-87be-4afb-f094-9e7e575b5840"
   },
   "outputs": [
    {
     "data": {
      "text/plain": [
       "ISBN                 object\n",
       "bookTitle            object\n",
       "bookAuthor           object\n",
       "yearOfPublication    object\n",
       "publisher            object\n",
       "dtype: object"
      ]
     },
     "execution_count": 19,
     "metadata": {
      "tags": []
     },
     "output_type": "execute_result"
    }
   ],
   "source": [
    "books.dtypes\n"
   ]
  },
  {
   "cell_type": "code",
   "execution_count": 0,
   "metadata": {
    "colab": {
     "base_uri": "https://localhost:8080/",
     "height": 451
    },
    "colab_type": "code",
    "id": "qVaht6-Jr6GZ",
    "outputId": "f4817c69-d142-4f63-82e2-a861f361385b"
   },
   "outputs": [
    {
     "data": {
      "text/plain": [
       "array([2002, 2001, 1991, 1999, 2000, 1993, 1996, 1988, 2004, 1998, 1994,\n",
       "       2003, 1997, 1983, 1979, 1995, 1982, 1985, 1992, 1986, 1978, 1980,\n",
       "       1952, 1987, 1990, 1981, 1989, 1984, 0, 1968, 1961, 1958, 1974,\n",
       "       1976, 1971, 1977, 1975, 1965, 1941, 1970, 1962, 1973, 1972, 1960,\n",
       "       1966, 1920, 1956, 1959, 1953, 1951, 1942, 1963, 1964, 1969, 1954,\n",
       "       1950, 1967, 2005, 1957, 1940, 1937, 1955, 1946, 1936, 1930, 2011,\n",
       "       1925, 1948, 1943, 1947, 1945, 1923, 2020, 1939, 1926, 1938, 2030,\n",
       "       1911, 1904, 1949, 1932, 1928, 1929, 1927, 1931, 1914, 2050, 1934,\n",
       "       1910, 1933, 1902, 1924, 1921, 1900, 2038, 2026, 1944, 1917, 1901,\n",
       "       2010, 1908, 1906, 1935, 1806, 2021, '2000', '1995', '1999', '2004',\n",
       "       '2003', '1990', '1994', '1986', '1989', '2002', '1981', '1993',\n",
       "       '1983', '1982', '1976', '1991', '1977', '1998', '1992', '1996',\n",
       "       '0', '1997', '2001', '1974', '1968', '1987', '1984', '1988',\n",
       "       '1963', '1956', '1970', '1985', '1978', '1973', '1980', '1979',\n",
       "       '1975', '1969', '1961', '1965', '1939', '1958', '1950', '1953',\n",
       "       '1966', '1971', '1959', '1972', '1955', '1957', '1945', '1960',\n",
       "       '1967', '1932', '1924', '1964', '2012', '1911', '1927', '1948',\n",
       "       '1962', '2006', '1952', '1940', '1951', '1931', '1954', '2005',\n",
       "       '1930', '1941', '1944', 'DK Publishing Inc', '1943', '1938',\n",
       "       '1900', '1942', '1923', '1920', '1933', 'Gallimard', '1909',\n",
       "       '1946', '2008', '1378', '2030', '1936', '1947', '2011', '2020',\n",
       "       '1919', '1949', '1922', '1897', '2024', '1376', '1926', '2037'],\n",
       "      dtype=object)"
      ]
     },
     "execution_count": 20,
     "metadata": {
      "tags": []
     },
     "output_type": "execute_result"
    }
   ],
   "source": [
    "books.yearOfPublication.unique()"
   ]
  },
  {
   "cell_type": "markdown",
   "metadata": {
    "colab_type": "text",
    "id": "EA9AHbLTJLKW"
   },
   "source": [
    "### **The Types are mixed, between Integers and Strings... Must set one type. Then there are wrong Data, in that they have set Publisher instead of year of publication 'Dk Publishing' and ''Gallimard'. There are also some numbers that make no sense...like 0, # > 2004... Need to take care of them also.**"
   ]
  },
  {
   "cell_type": "code",
   "execution_count": 0,
   "metadata": {
    "colab": {
     "base_uri": "https://localhost:8080/",
     "height": 147
    },
    "colab_type": "code",
    "id": "9wMDtFzkIy8g",
    "outputId": "b29b3dd7-ec7c-44d8-aeed-93bfce04ab03"
   },
   "outputs": [
    {
     "data": {
      "text/html": [
       "<div>\n",
       "<style scoped>\n",
       "    .dataframe tbody tr th:only-of-type {\n",
       "        vertical-align: middle;\n",
       "    }\n",
       "\n",
       "    .dataframe tbody tr th {\n",
       "        vertical-align: top;\n",
       "    }\n",
       "\n",
       "    .dataframe thead th {\n",
       "        text-align: right;\n",
       "    }\n",
       "</style>\n",
       "<table border=\"1\" class=\"dataframe\">\n",
       "  <thead>\n",
       "    <tr style=\"text-align: right;\">\n",
       "      <th></th>\n",
       "      <th>ISBN</th>\n",
       "      <th>bookTitle</th>\n",
       "      <th>bookAuthor</th>\n",
       "      <th>yearOfPublication</th>\n",
       "      <th>publisher</th>\n",
       "    </tr>\n",
       "  </thead>\n",
       "  <tbody>\n",
       "    <tr>\n",
       "      <th>209538</th>\n",
       "      <td>078946697X</td>\n",
       "      <td>DK Readers: Creating the X-Men, How It All Began (Level 4: Proficient Readers)\\\";Michael Teitelbaum\"</td>\n",
       "      <td>2000</td>\n",
       "      <td>DK Publishing Inc</td>\n",
       "      <td>http://images.amazon.com/images/P/078946697X.01.THUMBZZZ.jpg</td>\n",
       "    </tr>\n",
       "    <tr>\n",
       "      <th>221678</th>\n",
       "      <td>0789466953</td>\n",
       "      <td>DK Readers: Creating the X-Men, How Comic Books Come to Life (Level 4: Proficient Readers)\\\";James Buckley\"</td>\n",
       "      <td>2000</td>\n",
       "      <td>DK Publishing Inc</td>\n",
       "      <td>http://images.amazon.com/images/P/0789466953.01.THUMBZZZ.jpg</td>\n",
       "    </tr>\n",
       "  </tbody>\n",
       "</table>\n",
       "</div>"
      ],
      "text/plain": [
       "              ISBN  \\\n",
       "209538  078946697X   \n",
       "221678  0789466953   \n",
       "\n",
       "                                                                                                          bookTitle  \\\n",
       "209538  DK Readers: Creating the X-Men, How It All Began (Level 4: Proficient Readers)\\\";Michael Teitelbaum\"          \n",
       "221678  DK Readers: Creating the X-Men, How Comic Books Come to Life (Level 4: Proficient Readers)\\\";James Buckley\"   \n",
       "\n",
       "       bookAuthor  yearOfPublication  \\\n",
       "209538  2000       DK Publishing Inc   \n",
       "221678  2000       DK Publishing Inc   \n",
       "\n",
       "                                                           publisher  \n",
       "209538  http://images.amazon.com/images/P/078946697X.01.THUMBZZZ.jpg  \n",
       "221678  http://images.amazon.com/images/P/0789466953.01.THUMBZZZ.jpg  "
      ]
     },
     "execution_count": 21,
     "metadata": {
      "tags": []
     },
     "output_type": "execute_result"
    }
   ],
   "source": [
    "books.loc[books.yearOfPublication == 'DK Publishing Inc',:]"
   ]
  },
  {
   "cell_type": "code",
   "execution_count": 0,
   "metadata": {
    "colab": {},
    "colab_type": "code",
    "id": "SUL52CLVNp4n"
   },
   "outputs": [],
   "source": [
    "books.loc[books.ISBN == '078946697X','yearOfPublication'] = 2000\n",
    "books.loc[books.ISBN == '078946697X','bookAuthor'] = \"Michael Teitelbaum\"\n",
    "books.loc[books.ISBN == '078946697X','publisher'] = \"DK Publishing Inc\"\n",
    "\n"
   ]
  },
  {
   "cell_type": "code",
   "execution_count": 0,
   "metadata": {
    "colab": {},
    "colab_type": "code",
    "id": "eCullCcBPCWq"
   },
   "outputs": [],
   "source": [
    "books.loc[books.ISBN == '0789466953', 'yearOfPublication'] = 2000\n",
    "books.loc[books.ISBN == '0789466953', 'bookAuthor'] = \"James Buckley\"\n",
    "books.loc[books.ISBN == '0789466953', 'publisher'] = \"DK Publishing Inc\""
   ]
  },
  {
   "cell_type": "code",
   "execution_count": 0,
   "metadata": {
    "colab": {
     "base_uri": "https://localhost:8080/",
     "height": 98
    },
    "colab_type": "code",
    "id": "IK936XN1MxcP",
    "outputId": "e13e7d6c-7b80-47b0-d0a0-39ced2eaaacd"
   },
   "outputs": [
    {
     "data": {
      "text/html": [
       "<div>\n",
       "<style scoped>\n",
       "    .dataframe tbody tr th:only-of-type {\n",
       "        vertical-align: middle;\n",
       "    }\n",
       "\n",
       "    .dataframe tbody tr th {\n",
       "        vertical-align: top;\n",
       "    }\n",
       "\n",
       "    .dataframe thead th {\n",
       "        text-align: right;\n",
       "    }\n",
       "</style>\n",
       "<table border=\"1\" class=\"dataframe\">\n",
       "  <thead>\n",
       "    <tr style=\"text-align: right;\">\n",
       "      <th></th>\n",
       "      <th>ISBN</th>\n",
       "      <th>bookTitle</th>\n",
       "      <th>bookAuthor</th>\n",
       "      <th>yearOfPublication</th>\n",
       "      <th>publisher</th>\n",
       "    </tr>\n",
       "  </thead>\n",
       "  <tbody>\n",
       "    <tr>\n",
       "      <th>220731</th>\n",
       "      <td>2070426769</td>\n",
       "      <td>Peuple du ciel, suivi de 'Les Bergers\\\";Jean-Marie Gustave Le ClÃ?Â©zio\"</td>\n",
       "      <td>2003</td>\n",
       "      <td>Gallimard</td>\n",
       "      <td>http://images.amazon.com/images/P/2070426769.01.THUMBZZZ.jpg</td>\n",
       "    </tr>\n",
       "  </tbody>\n",
       "</table>\n",
       "</div>"
      ],
      "text/plain": [
       "              ISBN  \\\n",
       "220731  2070426769   \n",
       "\n",
       "                                                                       bookTitle  \\\n",
       "220731  Peuple du ciel, suivi de 'Les Bergers\\\";Jean-Marie Gustave Le ClÃ?Â©zio\"   \n",
       "\n",
       "       bookAuthor yearOfPublication  \\\n",
       "220731  2003       Gallimard          \n",
       "\n",
       "                                                           publisher  \n",
       "220731  http://images.amazon.com/images/P/2070426769.01.THUMBZZZ.jpg  "
      ]
     },
     "execution_count": 24,
     "metadata": {
      "tags": []
     },
     "output_type": "execute_result"
    }
   ],
   "source": [
    "books.loc[books.yearOfPublication == 'Gallimard']"
   ]
  },
  {
   "cell_type": "code",
   "execution_count": 0,
   "metadata": {
    "colab": {},
    "colab_type": "code",
    "id": "le8IrzlxRpZj"
   },
   "outputs": [],
   "source": [
    "books.loc[books.ISBN == '2070426769','yearOfPublication'] = 2003\n",
    "books.loc[books.ISBN == '2070426769','bookAuthor'] = 'Jean-Marie Gustave Le ClÃ?Â©zio'\n",
    "books.loc[books.ISBN == '2070426769','publisher'] = 'Gallimard'"
   ]
  },
  {
   "cell_type": "code",
   "execution_count": 0,
   "metadata": {
    "colab": {},
    "colab_type": "code",
    "id": "mt80HYp5TY0R"
   },
   "outputs": [],
   "source": [
    "books.yearOfPublication = pd.to_numeric(books.yearOfPublication)"
   ]
  },
  {
   "cell_type": "code",
   "execution_count": 0,
   "metadata": {
    "colab": {
     "base_uri": "https://localhost:8080/",
     "height": 2206
    },
    "colab_type": "code",
    "id": "2b7WY7PdsWE7",
    "outputId": "e35afa39-aee7-4450-a30d-d11d4b46c3ff"
   },
   "outputs": [
    {
     "data": {
      "text/plain": [
       "[0,\n",
       " 1376,\n",
       " 1378,\n",
       " 1806,\n",
       " 1897,\n",
       " 1900,\n",
       " 1901,\n",
       " 1902,\n",
       " 1904,\n",
       " 1906,\n",
       " 1908,\n",
       " 1909,\n",
       " 1910,\n",
       " 1911,\n",
       " 1914,\n",
       " 1917,\n",
       " 1919,\n",
       " 1920,\n",
       " 1921,\n",
       " 1922,\n",
       " 1923,\n",
       " 1924,\n",
       " 1925,\n",
       " 1926,\n",
       " 1927,\n",
       " 1928,\n",
       " 1929,\n",
       " 1930,\n",
       " 1931,\n",
       " 1932,\n",
       " 1933,\n",
       " 1934,\n",
       " 1935,\n",
       " 1936,\n",
       " 1937,\n",
       " 1938,\n",
       " 1939,\n",
       " 1940,\n",
       " 1941,\n",
       " 1942,\n",
       " 1943,\n",
       " 1944,\n",
       " 1945,\n",
       " 1946,\n",
       " 1947,\n",
       " 1948,\n",
       " 1949,\n",
       " 1950,\n",
       " 1951,\n",
       " 1952,\n",
       " 1953,\n",
       " 1954,\n",
       " 1955,\n",
       " 1956,\n",
       " 1957,\n",
       " 1958,\n",
       " 1959,\n",
       " 1960,\n",
       " 1961,\n",
       " 1962,\n",
       " 1963,\n",
       " 1964,\n",
       " 1965,\n",
       " 1966,\n",
       " 1967,\n",
       " 1968,\n",
       " 1969,\n",
       " 1970,\n",
       " 1971,\n",
       " 1972,\n",
       " 1973,\n",
       " 1974,\n",
       " 1975,\n",
       " 1976,\n",
       " 1977,\n",
       " 1978,\n",
       " 1979,\n",
       " 1980,\n",
       " 1981,\n",
       " 1982,\n",
       " 1983,\n",
       " 1984,\n",
       " 1985,\n",
       " 1986,\n",
       " 1987,\n",
       " 1988,\n",
       " 1989,\n",
       " 1990,\n",
       " 1991,\n",
       " 1992,\n",
       " 1993,\n",
       " 1994,\n",
       " 1995,\n",
       " 1996,\n",
       " 1997,\n",
       " 1998,\n",
       " 1999,\n",
       " 2000,\n",
       " 2001,\n",
       " 2002,\n",
       " 2003,\n",
       " 2004,\n",
       " 2005,\n",
       " 2006,\n",
       " 2008,\n",
       " 2010,\n",
       " 2011,\n",
       " 2012,\n",
       " 2020,\n",
       " 2021,\n",
       " 2024,\n",
       " 2026,\n",
       " 2030,\n",
       " 2037,\n",
       " 2038,\n",
       " 2050]"
      ]
     },
     "execution_count": 27,
     "metadata": {
      "tags": []
     },
     "output_type": "execute_result"
    }
   ],
   "source": [
    "sorted(books['yearOfPublication'].unique())"
   ]
  },
  {
   "cell_type": "code",
   "execution_count": 0,
   "metadata": {
    "colab": {
     "base_uri": "https://localhost:8080/",
     "height": 2027
    },
    "colab_type": "code",
    "id": "ZuWc8wpQVKqg",
    "outputId": "53e97261-cda0-417c-fe04-2999893dbc2a"
   },
   "outputs": [
    {
     "data": {
      "text/html": [
       "<div>\n",
       "<style scoped>\n",
       "    .dataframe tbody tr th:only-of-type {\n",
       "        vertical-align: middle;\n",
       "    }\n",
       "\n",
       "    .dataframe tbody tr th {\n",
       "        vertical-align: top;\n",
       "    }\n",
       "\n",
       "    .dataframe thead th {\n",
       "        text-align: right;\n",
       "    }\n",
       "</style>\n",
       "<table border=\"1\" class=\"dataframe\">\n",
       "  <thead>\n",
       "    <tr style=\"text-align: right;\">\n",
       "      <th></th>\n",
       "      <th>ISBN</th>\n",
       "      <th>bookTitle</th>\n",
       "      <th>bookAuthor</th>\n",
       "      <th>yearOfPublication</th>\n",
       "      <th>publisher</th>\n",
       "    </tr>\n",
       "  </thead>\n",
       "  <tbody>\n",
       "    <tr>\n",
       "      <th>176</th>\n",
       "      <td>3150000335</td>\n",
       "      <td>Kabale Und Liebe</td>\n",
       "      <td>Schiller</td>\n",
       "      <td>0</td>\n",
       "      <td>Philipp Reclam, Jun Verlag GmbH</td>\n",
       "    </tr>\n",
       "    <tr>\n",
       "      <th>188</th>\n",
       "      <td>342311360X</td>\n",
       "      <td>Die Liebe in Den Zelten</td>\n",
       "      <td>Gabriel Garcia Marquez</td>\n",
       "      <td>0</td>\n",
       "      <td>Deutscher Taschenbuch Verlag (DTV)</td>\n",
       "    </tr>\n",
       "    <tr>\n",
       "      <th>288</th>\n",
       "      <td>0571197639</td>\n",
       "      <td>Poisonwood Bible Edition Uk</td>\n",
       "      <td>Barbara Kingsolver</td>\n",
       "      <td>0</td>\n",
       "      <td>Faber Faber Inc</td>\n",
       "    </tr>\n",
       "    <tr>\n",
       "      <th>351</th>\n",
       "      <td>3596214629</td>\n",
       "      <td>Herr Der Fliegen (Fiction, Poetry and Drama)</td>\n",
       "      <td>Golding</td>\n",
       "      <td>0</td>\n",
       "      <td>Fischer Taschenbuch Verlag GmbH</td>\n",
       "    </tr>\n",
       "    <tr>\n",
       "      <th>542</th>\n",
       "      <td>8845229041</td>\n",
       "      <td>Biblioteca Universale Rizzoli: Sulla Sponda Del Fiume Piedra</td>\n",
       "      <td>P Coelho</td>\n",
       "      <td>0</td>\n",
       "      <td>Fabbri - RCS Libri</td>\n",
       "    </tr>\n",
       "    <tr>\n",
       "      <th>641</th>\n",
       "      <td>0345251733</td>\n",
       "      <td>Rainbow the Stormy Life of Judy Garland</td>\n",
       "      <td>Christopher Finch</td>\n",
       "      <td>0</td>\n",
       "      <td>Ballantine Books</td>\n",
       "    </tr>\n",
       "    <tr>\n",
       "      <th>646</th>\n",
       "      <td>0590021117</td>\n",
       "      <td>Little House On the Prairie</td>\n",
       "      <td>Laura Ingall Wilder</td>\n",
       "      <td>0</td>\n",
       "      <td>Scholastic Inc</td>\n",
       "    </tr>\n",
       "    <tr>\n",
       "      <th>728</th>\n",
       "      <td>2070362388</td>\n",
       "      <td>Ravage</td>\n",
       "      <td>Rene Barjavel</td>\n",
       "      <td>0</td>\n",
       "      <td>Gallimard French</td>\n",
       "    </tr>\n",
       "    <tr>\n",
       "      <th>732</th>\n",
       "      <td>2266033689</td>\n",
       "      <td>Le Diable Au Corps</td>\n",
       "      <td>Raymond Radiguet</td>\n",
       "      <td>0</td>\n",
       "      <td>Presses Pocket French</td>\n",
       "    </tr>\n",
       "    <tr>\n",
       "      <th>735</th>\n",
       "      <td>2070334368</td>\n",
       "      <td>La Guerre Des Boutons</td>\n",
       "      <td>Pergaud</td>\n",
       "      <td>0</td>\n",
       "      <td>Livre de Poche</td>\n",
       "    </tr>\n",
       "    <tr>\n",
       "      <th>797</th>\n",
       "      <td>0718144538</td>\n",
       "      <td>Shattered Uk</td>\n",
       "      <td>Dick Francis</td>\n",
       "      <td>0</td>\n",
       "      <td>Michael Joseph Ltd</td>\n",
       "    </tr>\n",
       "    <tr>\n",
       "      <th>810</th>\n",
       "      <td>0349101779</td>\n",
       "      <td>The Wasp Factory</td>\n",
       "      <td>Iain Banks</td>\n",
       "      <td>0</td>\n",
       "      <td>Abacus</td>\n",
       "    </tr>\n",
       "    <tr>\n",
       "      <th>820</th>\n",
       "      <td>1860198597</td>\n",
       "      <td>How to Draw Celtic Knotwork: A Practical Handbook</td>\n",
       "      <td>Andy Sloss</td>\n",
       "      <td>0</td>\n",
       "      <td>Brockhampton Press</td>\n",
       "    </tr>\n",
       "    <tr>\n",
       "      <th>924</th>\n",
       "      <td>0753804700</td>\n",
       "      <td>Reader</td>\n",
       "      <td>Bernhard Schlink</td>\n",
       "      <td>0</td>\n",
       "      <td>Phoenix Books</td>\n",
       "    </tr>\n",
       "    <tr>\n",
       "      <th>1058</th>\n",
       "      <td>3473540420</td>\n",
       "      <td>Das Kurze Leben Der Sophie Scholl (Fiction, Poetry and Drama)</td>\n",
       "      <td>Vinke</td>\n",
       "      <td>0</td>\n",
       "      <td>Ravensburger Buchverlag Otto Maier GmbH</td>\n",
       "    </tr>\n",
       "    <tr>\n",
       "      <th>1095</th>\n",
       "      <td>1566193966</td>\n",
       "      <td>History of Croatia</td>\n",
       "      <td>Stephen Gazi</td>\n",
       "      <td>0</td>\n",
       "      <td>Barnes Noble Books</td>\n",
       "    </tr>\n",
       "    <tr>\n",
       "      <th>1165</th>\n",
       "      <td>3423009152</td>\n",
       "      <td>Der Geteilte Himmel</td>\n",
       "      <td>Christa Wolf</td>\n",
       "      <td>0</td>\n",
       "      <td>Deutscher Taschenbuch Verlag</td>\n",
       "    </tr>\n",
       "    <tr>\n",
       "      <th>1227</th>\n",
       "      <td>0140620338</td>\n",
       "      <td>Picture of Dorian Gray</td>\n",
       "      <td>Oscar Wilde</td>\n",
       "      <td>0</td>\n",
       "      <td>Penguin Putnam~mass</td>\n",
       "    </tr>\n",
       "    <tr>\n",
       "      <th>1253</th>\n",
       "      <td>0571200389</td>\n",
       "      <td>Golden Gate</td>\n",
       "      <td>Vikram Seth</td>\n",
       "      <td>0</td>\n",
       "      <td>Faber Faber Inc</td>\n",
       "    </tr>\n",
       "    <tr>\n",
       "      <th>1261</th>\n",
       "      <td>000649840X</td>\n",
       "      <td>Angelas Ashes</td>\n",
       "      <td>Frank Mccourt</td>\n",
       "      <td>0</td>\n",
       "      <td>Harpercollins Uk</td>\n",
       "    </tr>\n",
       "    <tr>\n",
       "      <th>1263</th>\n",
       "      <td>0099771519</td>\n",
       "      <td>Memoirs of a Geisha Uk</td>\n",
       "      <td>Arthur Golden</td>\n",
       "      <td>0</td>\n",
       "      <td>Trafalgar Square</td>\n",
       "    </tr>\n",
       "    <tr>\n",
       "      <th>1381</th>\n",
       "      <td>0552996009</td>\n",
       "      <td>Notes From a Small Planet</td>\n",
       "      <td>Bill Bryson</td>\n",
       "      <td>0</td>\n",
       "      <td>Bantam Doubleday Dell</td>\n",
       "    </tr>\n",
       "    <tr>\n",
       "      <th>1390</th>\n",
       "      <td>0855030224</td>\n",
       "      <td>An ABC for You and Me</td>\n",
       "      <td>Margaret Tempest</td>\n",
       "      <td>0</td>\n",
       "      <td>The Medici Society Ltd</td>\n",
       "    </tr>\n",
       "    <tr>\n",
       "      <th>1448</th>\n",
       "      <td>1566197155</td>\n",
       "      <td>Little Princess</td>\n",
       "      <td>Frances Hodgson Burnett</td>\n",
       "      <td>0</td>\n",
       "      <td>Barnes Noble Books</td>\n",
       "    </tr>\n",
       "    <tr>\n",
       "      <th>1623</th>\n",
       "      <td>2070363104</td>\n",
       "      <td>Histoires Extraordinaires</td>\n",
       "      <td>Edgar Allan Poe</td>\n",
       "      <td>0</td>\n",
       "      <td>Gallimard French</td>\n",
       "    </tr>\n",
       "    <tr>\n",
       "      <th>1631</th>\n",
       "      <td>2266000489</td>\n",
       "      <td>La Nuit Des Temps</td>\n",
       "      <td>Rene Barjavel</td>\n",
       "      <td>0</td>\n",
       "      <td>Presses De La Cite French</td>\n",
       "    </tr>\n",
       "    <tr>\n",
       "      <th>1637</th>\n",
       "      <td>0307177092</td>\n",
       "      <td>Peters Welcom Tell a Tale Book</td>\n",
       "      <td>Maida Silverman</td>\n",
       "      <td>0</td>\n",
       "      <td>Golden Books</td>\n",
       "    </tr>\n",
       "    <tr>\n",
       "      <th>1734</th>\n",
       "      <td>3518368540</td>\n",
       "      <td>Homo Faber</td>\n",
       "      <td>Max Frisch</td>\n",
       "      <td>0</td>\n",
       "      <td>Distribooks Int'l+inc</td>\n",
       "    </tr>\n",
       "    <tr>\n",
       "      <th>1743</th>\n",
       "      <td>0450542912</td>\n",
       "      <td>Rain Uk</td>\n",
       "      <td>Stephen Gallagher</td>\n",
       "      <td>0</td>\n",
       "      <td>Trafalgar Square</td>\n",
       "    </tr>\n",
       "    <tr>\n",
       "      <th>1814</th>\n",
       "      <td>0684821192</td>\n",
       "      <td>Ramses the Son of Light</td>\n",
       "      <td>Christian Jacq</td>\n",
       "      <td>0</td>\n",
       "      <td>Simon Schuster Trade</td>\n",
       "    </tr>\n",
       "    <tr>\n",
       "      <th>...</th>\n",
       "      <td>...</td>\n",
       "      <td>...</td>\n",
       "      <td>...</td>\n",
       "      <td>...</td>\n",
       "      <td>...</td>\n",
       "    </tr>\n",
       "    <tr>\n",
       "      <th>268819</th>\n",
       "      <td>2038700648</td>\n",
       "      <td>Les Miserables 1*</td>\n",
       "      <td>Hugo</td>\n",
       "      <td>0</td>\n",
       "      <td>Editions Larousse</td>\n",
       "    </tr>\n",
       "    <tr>\n",
       "      <th>268820</th>\n",
       "      <td>2038700656</td>\n",
       "      <td>Les Miserables 2*</td>\n",
       "      <td>Hugo</td>\n",
       "      <td>0</td>\n",
       "      <td>Editions Larousse</td>\n",
       "    </tr>\n",
       "    <tr>\n",
       "      <th>268822</th>\n",
       "      <td>2070360172</td>\n",
       "      <td>Le Rouge Et Le Noir</td>\n",
       "      <td>Stendhal</td>\n",
       "      <td>0</td>\n",
       "      <td>Folio</td>\n",
       "    </tr>\n",
       "    <tr>\n",
       "      <th>268824</th>\n",
       "      <td>2253034304</td>\n",
       "      <td>Les Allumettes Suedoises</td>\n",
       "      <td>Robert Sabatier</td>\n",
       "      <td>0</td>\n",
       "      <td>Livre De Poche French</td>\n",
       "    </tr>\n",
       "    <tr>\n",
       "      <th>269023</th>\n",
       "      <td>1579900445</td>\n",
       "      <td>Weekend Crafter Painting Glass</td>\n",
       "      <td>Moira Neal</td>\n",
       "      <td>0</td>\n",
       "      <td>Lark Books(sterling Publ Co</td>\n",
       "    </tr>\n",
       "    <tr>\n",
       "      <th>269031</th>\n",
       "      <td>1858370116</td>\n",
       "      <td>Soups and Starters the Country Kitchen</td>\n",
       "      <td>Anne Chapman</td>\n",
       "      <td>0</td>\n",
       "      <td>Aidc</td>\n",
       "    </tr>\n",
       "    <tr>\n",
       "      <th>269386</th>\n",
       "      <td>0965455130</td>\n",
       "      <td>Me Five Years From Now the Life Planning</td>\n",
       "      <td>Sheree Bykofsky</td>\n",
       "      <td>0</td>\n",
       "      <td>Hyperion</td>\n",
       "    </tr>\n",
       "    <tr>\n",
       "      <th>269663</th>\n",
       "      <td>0345277074</td>\n",
       "      <td>Bridge at Remagen Prem</td>\n",
       "      <td>Ken Hechler</td>\n",
       "      <td>0</td>\n",
       "      <td>Ballantine Books</td>\n",
       "    </tr>\n",
       "    <tr>\n",
       "      <th>269834</th>\n",
       "      <td>2070334384</td>\n",
       "      <td>Le Poney Rouge</td>\n",
       "      <td>Steinbeck</td>\n",
       "      <td>0</td>\n",
       "      <td>Livre de Poche</td>\n",
       "    </tr>\n",
       "    <tr>\n",
       "      <th>269840</th>\n",
       "      <td>2277125180</td>\n",
       "      <td>Maxime Ou La Dechirure</td>\n",
       "      <td>F Groult</td>\n",
       "      <td>0</td>\n",
       "      <td>Editions 84</td>\n",
       "    </tr>\n",
       "    <tr>\n",
       "      <th>269841</th>\n",
       "      <td>2277211745</td>\n",
       "      <td>Ni Tout a Fait La Meme Ni Tout a Fait Une Autre</td>\n",
       "      <td>F Groult</td>\n",
       "      <td>0</td>\n",
       "      <td>Editions 84</td>\n",
       "    </tr>\n",
       "    <tr>\n",
       "      <th>269962</th>\n",
       "      <td>3442075750</td>\n",
       "      <td>Effi Briest</td>\n",
       "      <td>Fontane</td>\n",
       "      <td>0</td>\n",
       "      <td>Wilhelm Goldmann Verlag GmbH</td>\n",
       "    </tr>\n",
       "    <tr>\n",
       "      <th>270247</th>\n",
       "      <td>0760702535</td>\n",
       "      <td>Cthulu Mythos</td>\n",
       "      <td>August Derleth</td>\n",
       "      <td>0</td>\n",
       "      <td>Barnes Noble Books</td>\n",
       "    </tr>\n",
       "    <tr>\n",
       "      <th>270312</th>\n",
       "      <td>1852791578</td>\n",
       "      <td>Your First Kitten (Your First...series)</td>\n",
       "      <td>Marianne Mays</td>\n",
       "      <td>0</td>\n",
       "      <td>TFH Publications</td>\n",
       "    </tr>\n",
       "    <tr>\n",
       "      <th>270320</th>\n",
       "      <td>0713715200</td>\n",
       "      <td>American Filmmakers Today</td>\n",
       "      <td>Dian Smith</td>\n",
       "      <td>0</td>\n",
       "      <td>Sterling*+ Publishing Company</td>\n",
       "    </tr>\n",
       "    <tr>\n",
       "      <th>270358</th>\n",
       "      <td>3126752004</td>\n",
       "      <td>Wirtschaft Im Ohr - Level 1: Ubungsbuch 1</td>\n",
       "      <td>Dondoux-Liberge</td>\n",
       "      <td>0</td>\n",
       "      <td>Ernst Klett Verlag GmbH</td>\n",
       "    </tr>\n",
       "    <tr>\n",
       "      <th>270359</th>\n",
       "      <td>3126752020</td>\n",
       "      <td>Wirtschaft Im Ohr - Level 1: Cassetten 1 (2)</td>\n",
       "      <td>Dondoux-Liberge</td>\n",
       "      <td>0</td>\n",
       "      <td>Ernst Klett Verlag GmbH</td>\n",
       "    </tr>\n",
       "    <tr>\n",
       "      <th>270360</th>\n",
       "      <td>3126752055</td>\n",
       "      <td>Wirtschaft Im Ohr - Level 2: Cassette 2</td>\n",
       "      <td>Dondoux-Liberge</td>\n",
       "      <td>0</td>\n",
       "      <td>Ernst Klett Verlag GmbH</td>\n",
       "    </tr>\n",
       "    <tr>\n",
       "      <th>270374</th>\n",
       "      <td>0553026828</td>\n",
       "      <td>Dissertation</td>\n",
       "      <td>R M Koster</td>\n",
       "      <td>0</td>\n",
       "      <td>Bantam Doubleday Dell</td>\n",
       "    </tr>\n",
       "    <tr>\n",
       "      <th>270397</th>\n",
       "      <td>0517209802</td>\n",
       "      <td>Christmas Memories With Recipes</td>\n",
       "      <td>Compilation</td>\n",
       "      <td>0</td>\n",
       "      <td>Random House</td>\n",
       "    </tr>\n",
       "    <tr>\n",
       "      <th>270484</th>\n",
       "      <td>0571204163</td>\n",
       "      <td>Headlong</td>\n",
       "      <td>Michael Frayn</td>\n",
       "      <td>0</td>\n",
       "      <td>Faber Faber Inc</td>\n",
       "    </tr>\n",
       "    <tr>\n",
       "      <th>270524</th>\n",
       "      <td>0747512302</td>\n",
       "      <td>Clockers</td>\n",
       "      <td>Richard Price</td>\n",
       "      <td>0</td>\n",
       "      <td>Bloomsbury Pub Ltd, London</td>\n",
       "    </tr>\n",
       "    <tr>\n",
       "      <th>270637</th>\n",
       "      <td>0710510683</td>\n",
       "      <td>Stories to Treasure</td>\n",
       "      <td>Haddock Peter</td>\n",
       "      <td>0</td>\n",
       "      <td>Peter Haddock</td>\n",
       "    </tr>\n",
       "    <tr>\n",
       "      <th>270679</th>\n",
       "      <td>0752841092</td>\n",
       "      <td>The Ex-files</td>\n",
       "      <td>Jane Moore</td>\n",
       "      <td>0</td>\n",
       "      <td>Orion mass market paperback</td>\n",
       "    </tr>\n",
       "    <tr>\n",
       "      <th>270777</th>\n",
       "      <td>207036318X</td>\n",
       "      <td>Trou</td>\n",
       "      <td>Jose Giovanni</td>\n",
       "      <td>0</td>\n",
       "      <td>Gallimard French</td>\n",
       "    </tr>\n",
       "    <tr>\n",
       "      <th>270794</th>\n",
       "      <td>014029953X</td>\n",
       "      <td>Foe (Essential.penguin S.)</td>\n",
       "      <td>J.M. Coetzee</td>\n",
       "      <td>0</td>\n",
       "      <td>Penguin Books Ltd</td>\n",
       "    </tr>\n",
       "    <tr>\n",
       "      <th>270913</th>\n",
       "      <td>0340571187</td>\n",
       "      <td>Postmens House</td>\n",
       "      <td>Maggie Hemingway</td>\n",
       "      <td>0</td>\n",
       "      <td>Trafalgar Square</td>\n",
       "    </tr>\n",
       "    <tr>\n",
       "      <th>271094</th>\n",
       "      <td>8427201079</td>\n",
       "      <td>El Misterio De Sittaford</td>\n",
       "      <td>Agatha Christie</td>\n",
       "      <td>0</td>\n",
       "      <td>Editorial Molino</td>\n",
       "    </tr>\n",
       "    <tr>\n",
       "      <th>271182</th>\n",
       "      <td>0887781721</td>\n",
       "      <td>Tom Penny</td>\n",
       "      <td>Tony German</td>\n",
       "      <td>0</td>\n",
       "      <td>P. Martin Associates</td>\n",
       "    </tr>\n",
       "    <tr>\n",
       "      <th>271196</th>\n",
       "      <td>3150013763</td>\n",
       "      <td>Der Hofmeister</td>\n",
       "      <td>Jakob Lenz</td>\n",
       "      <td>0</td>\n",
       "      <td>Philipp Reclam, Jun Verlag GmbH</td>\n",
       "    </tr>\n",
       "  </tbody>\n",
       "</table>\n",
       "<p>4618 rows × 5 columns</p>\n",
       "</div>"
      ],
      "text/plain": [
       "              ISBN  \\\n",
       "176     3150000335   \n",
       "188     342311360X   \n",
       "288     0571197639   \n",
       "351     3596214629   \n",
       "542     8845229041   \n",
       "641     0345251733   \n",
       "646     0590021117   \n",
       "728     2070362388   \n",
       "732     2266033689   \n",
       "735     2070334368   \n",
       "797     0718144538   \n",
       "810     0349101779   \n",
       "820     1860198597   \n",
       "924     0753804700   \n",
       "1058    3473540420   \n",
       "1095    1566193966   \n",
       "1165    3423009152   \n",
       "1227    0140620338   \n",
       "1253    0571200389   \n",
       "1261    000649840X   \n",
       "1263    0099771519   \n",
       "1381    0552996009   \n",
       "1390    0855030224   \n",
       "1448    1566197155   \n",
       "1623    2070363104   \n",
       "1631    2266000489   \n",
       "1637    0307177092   \n",
       "1734    3518368540   \n",
       "1743    0450542912   \n",
       "1814    0684821192   \n",
       "...            ...   \n",
       "268819  2038700648   \n",
       "268820  2038700656   \n",
       "268822  2070360172   \n",
       "268824  2253034304   \n",
       "269023  1579900445   \n",
       "269031  1858370116   \n",
       "269386  0965455130   \n",
       "269663  0345277074   \n",
       "269834  2070334384   \n",
       "269840  2277125180   \n",
       "269841  2277211745   \n",
       "269962  3442075750   \n",
       "270247  0760702535   \n",
       "270312  1852791578   \n",
       "270320  0713715200   \n",
       "270358  3126752004   \n",
       "270359  3126752020   \n",
       "270360  3126752055   \n",
       "270374  0553026828   \n",
       "270397  0517209802   \n",
       "270484  0571204163   \n",
       "270524  0747512302   \n",
       "270637  0710510683   \n",
       "270679  0752841092   \n",
       "270777  207036318X   \n",
       "270794  014029953X   \n",
       "270913  0340571187   \n",
       "271094  8427201079   \n",
       "271182  0887781721   \n",
       "271196  3150013763   \n",
       "\n",
       "                                                            bookTitle  \\\n",
       "176     Kabale Und Liebe                                                \n",
       "188     Die Liebe in Den Zelten                                         \n",
       "288     Poisonwood Bible Edition Uk                                     \n",
       "351     Herr Der Fliegen (Fiction, Poetry and Drama)                    \n",
       "542     Biblioteca Universale Rizzoli: Sulla Sponda Del Fiume Piedra    \n",
       "641     Rainbow the Stormy Life of Judy Garland                         \n",
       "646     Little House On the Prairie                                     \n",
       "728     Ravage                                                          \n",
       "732     Le Diable Au Corps                                              \n",
       "735     La Guerre Des Boutons                                           \n",
       "797     Shattered Uk                                                    \n",
       "810     The Wasp Factory                                                \n",
       "820     How to Draw Celtic Knotwork: A Practical Handbook               \n",
       "924     Reader                                                          \n",
       "1058    Das Kurze Leben Der Sophie Scholl (Fiction, Poetry and Drama)   \n",
       "1095    History of Croatia                                              \n",
       "1165    Der Geteilte Himmel                                             \n",
       "1227    Picture of Dorian Gray                                          \n",
       "1253    Golden Gate                                                     \n",
       "1261    Angelas Ashes                                                   \n",
       "1263    Memoirs of a Geisha Uk                                          \n",
       "1381    Notes From a Small Planet                                       \n",
       "1390    An ABC for You and Me                                           \n",
       "1448    Little Princess                                                 \n",
       "1623    Histoires Extraordinaires                                       \n",
       "1631    La Nuit Des Temps                                               \n",
       "1637    Peters Welcom Tell a Tale Book                                  \n",
       "1734    Homo Faber                                                      \n",
       "1743    Rain Uk                                                         \n",
       "1814    Ramses the Son of Light                                         \n",
       "...                         ...                                         \n",
       "268819  Les Miserables 1*                                               \n",
       "268820  Les Miserables 2*                                               \n",
       "268822  Le Rouge Et Le Noir                                             \n",
       "268824  Les Allumettes Suedoises                                        \n",
       "269023  Weekend Crafter Painting Glass                                  \n",
       "269031  Soups and Starters the Country Kitchen                          \n",
       "269386  Me Five Years From Now the Life Planning                        \n",
       "269663  Bridge at Remagen Prem                                          \n",
       "269834  Le Poney Rouge                                                  \n",
       "269840  Maxime Ou La Dechirure                                          \n",
       "269841  Ni Tout a Fait La Meme Ni Tout a Fait Une Autre                 \n",
       "269962  Effi Briest                                                     \n",
       "270247  Cthulu Mythos                                                   \n",
       "270312  Your First Kitten (Your First...series)                         \n",
       "270320  American Filmmakers Today                                       \n",
       "270358  Wirtschaft Im Ohr - Level 1: Ubungsbuch 1                       \n",
       "270359  Wirtschaft Im Ohr - Level 1: Cassetten 1 (2)                    \n",
       "270360  Wirtschaft Im Ohr - Level 2: Cassette 2                         \n",
       "270374  Dissertation                                                    \n",
       "270397  Christmas Memories With Recipes                                 \n",
       "270484  Headlong                                                        \n",
       "270524  Clockers                                                        \n",
       "270637  Stories to Treasure                                             \n",
       "270679  The Ex-files                                                    \n",
       "270777  Trou                                                            \n",
       "270794  Foe (Essential.penguin S.)                                      \n",
       "270913  Postmens House                                                  \n",
       "271094  El Misterio De Sittaford                                        \n",
       "271182  Tom Penny                                                       \n",
       "271196  Der Hofmeister                                                  \n",
       "\n",
       "                     bookAuthor  yearOfPublication  \\\n",
       "176     Schiller                 0                   \n",
       "188     Gabriel Garcia Marquez   0                   \n",
       "288     Barbara Kingsolver       0                   \n",
       "351     Golding                  0                   \n",
       "542     P Coelho                 0                   \n",
       "641     Christopher Finch        0                   \n",
       "646     Laura Ingall Wilder      0                   \n",
       "728     Rene Barjavel            0                   \n",
       "732     Raymond Radiguet         0                   \n",
       "735     Pergaud                  0                   \n",
       "797     Dick Francis             0                   \n",
       "810     Iain Banks               0                   \n",
       "820     Andy Sloss               0                   \n",
       "924     Bernhard Schlink         0                   \n",
       "1058    Vinke                    0                   \n",
       "1095    Stephen Gazi             0                   \n",
       "1165    Christa Wolf             0                   \n",
       "1227    Oscar Wilde              0                   \n",
       "1253    Vikram Seth              0                   \n",
       "1261    Frank Mccourt            0                   \n",
       "1263    Arthur Golden            0                   \n",
       "1381    Bill Bryson              0                   \n",
       "1390    Margaret Tempest         0                   \n",
       "1448    Frances Hodgson Burnett  0                   \n",
       "1623    Edgar Allan Poe          0                   \n",
       "1631    Rene Barjavel            0                   \n",
       "1637    Maida Silverman          0                   \n",
       "1734    Max Frisch               0                   \n",
       "1743    Stephen Gallagher        0                   \n",
       "1814    Christian Jacq           0                   \n",
       "...                ...          ..                   \n",
       "268819  Hugo                     0                   \n",
       "268820  Hugo                     0                   \n",
       "268822  Stendhal                 0                   \n",
       "268824  Robert Sabatier          0                   \n",
       "269023  Moira Neal               0                   \n",
       "269031  Anne Chapman             0                   \n",
       "269386  Sheree Bykofsky          0                   \n",
       "269663  Ken Hechler              0                   \n",
       "269834  Steinbeck                0                   \n",
       "269840  F Groult                 0                   \n",
       "269841  F Groult                 0                   \n",
       "269962  Fontane                  0                   \n",
       "270247  August Derleth           0                   \n",
       "270312  Marianne Mays            0                   \n",
       "270320  Dian Smith               0                   \n",
       "270358  Dondoux-Liberge          0                   \n",
       "270359  Dondoux-Liberge          0                   \n",
       "270360  Dondoux-Liberge          0                   \n",
       "270374  R M Koster               0                   \n",
       "270397  Compilation              0                   \n",
       "270484  Michael Frayn            0                   \n",
       "270524  Richard Price            0                   \n",
       "270637  Haddock Peter            0                   \n",
       "270679  Jane Moore               0                   \n",
       "270777  Jose Giovanni            0                   \n",
       "270794  J.M. Coetzee             0                   \n",
       "270913  Maggie Hemingway         0                   \n",
       "271094  Agatha Christie          0                   \n",
       "271182  Tony German              0                   \n",
       "271196  Jakob Lenz               0                   \n",
       "\n",
       "                                      publisher  \n",
       "176     Philipp Reclam, Jun Verlag GmbH          \n",
       "188     Deutscher Taschenbuch Verlag (DTV)       \n",
       "288     Faber Faber Inc                          \n",
       "351     Fischer Taschenbuch Verlag GmbH          \n",
       "542     Fabbri - RCS Libri                       \n",
       "641     Ballantine Books                         \n",
       "646     Scholastic Inc                           \n",
       "728     Gallimard French                         \n",
       "732     Presses Pocket French                    \n",
       "735     Livre de Poche                           \n",
       "797     Michael Joseph Ltd                       \n",
       "810     Abacus                                   \n",
       "820     Brockhampton Press                       \n",
       "924     Phoenix Books                            \n",
       "1058    Ravensburger Buchverlag Otto Maier GmbH  \n",
       "1095    Barnes Noble Books                       \n",
       "1165    Deutscher Taschenbuch Verlag             \n",
       "1227    Penguin Putnam~mass                      \n",
       "1253    Faber Faber Inc                          \n",
       "1261    Harpercollins Uk                         \n",
       "1263    Trafalgar Square                         \n",
       "1381    Bantam Doubleday Dell                    \n",
       "1390    The Medici Society Ltd                   \n",
       "1448    Barnes Noble Books                       \n",
       "1623    Gallimard French                         \n",
       "1631    Presses De La Cite French                \n",
       "1637    Golden Books                             \n",
       "1734    Distribooks Int'l+inc                    \n",
       "1743    Trafalgar Square                         \n",
       "1814    Simon Schuster Trade                     \n",
       "...                      ...                     \n",
       "268819  Editions Larousse                        \n",
       "268820  Editions Larousse                        \n",
       "268822  Folio                                    \n",
       "268824  Livre De Poche French                    \n",
       "269023  Lark Books(sterling Publ Co              \n",
       "269031  Aidc                                     \n",
       "269386  Hyperion                                 \n",
       "269663  Ballantine Books                         \n",
       "269834  Livre de Poche                           \n",
       "269840  Editions 84                              \n",
       "269841  Editions 84                              \n",
       "269962  Wilhelm Goldmann Verlag GmbH             \n",
       "270247  Barnes Noble Books                       \n",
       "270312  TFH Publications                         \n",
       "270320  Sterling*+ Publishing Company            \n",
       "270358  Ernst Klett Verlag GmbH                  \n",
       "270359  Ernst Klett Verlag GmbH                  \n",
       "270360  Ernst Klett Verlag GmbH                  \n",
       "270374  Bantam Doubleday Dell                    \n",
       "270397  Random House                             \n",
       "270484  Faber Faber Inc                          \n",
       "270524  Bloomsbury Pub Ltd, London               \n",
       "270637  Peter Haddock                            \n",
       "270679  Orion mass market paperback              \n",
       "270777  Gallimard French                         \n",
       "270794  Penguin Books Ltd                        \n",
       "270913  Trafalgar Square                         \n",
       "271094  Editorial Molino                         \n",
       "271182  P. Martin Associates                     \n",
       "271196  Philipp Reclam, Jun Verlag GmbH          \n",
       "\n",
       "[4618 rows x 5 columns]"
      ]
     },
     "execution_count": 28,
     "metadata": {
      "tags": []
     },
     "output_type": "execute_result"
    }
   ],
   "source": [
    "books.loc[books.yearOfPublication == 0,:]"
   ]
  },
  {
   "cell_type": "markdown",
   "metadata": {
    "colab_type": "text",
    "id": "R1SfPMpiVmiB"
   },
   "source": [
    "### **O.k. so there are a lot of books with yearOfPublication == 0. **"
   ]
  },
  {
   "cell_type": "code",
   "execution_count": 0,
   "metadata": {
    "colab": {
     "base_uri": "https://localhost:8080/",
     "height": 81
    },
    "colab_type": "code",
    "id": "kR-lX6o4U2dy",
    "outputId": "1eabd9e0-99b9-420b-8ccc-dcca37788737"
   },
   "outputs": [
    {
     "data": {
      "text/html": [
       "<div>\n",
       "<style scoped>\n",
       "    .dataframe tbody tr th:only-of-type {\n",
       "        vertical-align: middle;\n",
       "    }\n",
       "\n",
       "    .dataframe tbody tr th {\n",
       "        vertical-align: top;\n",
       "    }\n",
       "\n",
       "    .dataframe thead th {\n",
       "        text-align: right;\n",
       "    }\n",
       "</style>\n",
       "<table border=\"1\" class=\"dataframe\">\n",
       "  <thead>\n",
       "    <tr style=\"text-align: right;\">\n",
       "      <th></th>\n",
       "      <th>ISBN</th>\n",
       "      <th>bookTitle</th>\n",
       "      <th>bookAuthor</th>\n",
       "      <th>yearOfPublication</th>\n",
       "      <th>publisher</th>\n",
       "    </tr>\n",
       "  </thead>\n",
       "  <tbody>\n",
       "    <tr>\n",
       "      <th>253750</th>\n",
       "      <td>964442011X</td>\n",
       "      <td>Tasht-i khun</td>\n",
       "      <td>IsmaÂ°il Fasih</td>\n",
       "      <td>1376</td>\n",
       "      <td>Nashr-i Alburz</td>\n",
       "    </tr>\n",
       "  </tbody>\n",
       "</table>\n",
       "</div>"
      ],
      "text/plain": [
       "              ISBN     bookTitle      bookAuthor  yearOfPublication  \\\n",
       "253750  964442011X  Tasht-i khun  IsmaÂ°il Fasih  1376                \n",
       "\n",
       "             publisher  \n",
       "253750  Nashr-i Alburz  "
      ]
     },
     "execution_count": 29,
     "metadata": {
      "tags": []
     },
     "output_type": "execute_result"
    }
   ],
   "source": [
    "books.loc[books.yearOfPublication == 1376,:]\n"
   ]
  },
  {
   "cell_type": "markdown",
   "metadata": {
    "colab_type": "text",
    "id": "pzpYUOptrUbN"
   },
   "source": [
    "### **Now that we have the data ready... let's prepare our dataset, combining some parts of the three tables into one that means something, at least to me...?!**"
   ]
  },
  {
   "cell_type": "markdown",
   "metadata": {
    "colab_type": "text",
    "id": "xs0dbOLBrlO3"
   },
   "source": [
    "### **Using Pandas merge function to merge the ratings table with parts of the book table... **"
   ]
  },
  {
   "cell_type": "code",
   "execution_count": 0,
   "metadata": {
    "colab": {},
    "colab_type": "code",
    "id": "K8gr6k6Fri79"
   },
   "outputs": [],
   "source": [
    "rating_book = pd.merge(ratings, books, on='ISBN')"
   ]
  },
  {
   "cell_type": "code",
   "execution_count": 0,
   "metadata": {
    "colab": {
     "base_uri": "https://localhost:8080/",
     "height": 206
    },
    "colab_type": "code",
    "id": "-Dncqo73vgsz",
    "outputId": "7340036c-c47a-4fae-a168-74bdbc74a61c"
   },
   "outputs": [
    {
     "data": {
      "text/html": [
       "<div>\n",
       "<style scoped>\n",
       "    .dataframe tbody tr th:only-of-type {\n",
       "        vertical-align: middle;\n",
       "    }\n",
       "\n",
       "    .dataframe tbody tr th {\n",
       "        vertical-align: top;\n",
       "    }\n",
       "\n",
       "    .dataframe thead th {\n",
       "        text-align: right;\n",
       "    }\n",
       "</style>\n",
       "<table border=\"1\" class=\"dataframe\">\n",
       "  <thead>\n",
       "    <tr style=\"text-align: right;\">\n",
       "      <th></th>\n",
       "      <th>userId</th>\n",
       "      <th>ISBN</th>\n",
       "      <th>bookRating</th>\n",
       "      <th>bookTitle</th>\n",
       "      <th>bookAuthor</th>\n",
       "      <th>yearOfPublication</th>\n",
       "      <th>publisher</th>\n",
       "    </tr>\n",
       "  </thead>\n",
       "  <tbody>\n",
       "    <tr>\n",
       "      <th>0</th>\n",
       "      <td>276725</td>\n",
       "      <td>034545104X</td>\n",
       "      <td>0</td>\n",
       "      <td>Flesh Tones: A Novel</td>\n",
       "      <td>M. J. Rose</td>\n",
       "      <td>2002</td>\n",
       "      <td>Ballantine Books</td>\n",
       "    </tr>\n",
       "    <tr>\n",
       "      <th>1</th>\n",
       "      <td>2313</td>\n",
       "      <td>034545104X</td>\n",
       "      <td>5</td>\n",
       "      <td>Flesh Tones: A Novel</td>\n",
       "      <td>M. J. Rose</td>\n",
       "      <td>2002</td>\n",
       "      <td>Ballantine Books</td>\n",
       "    </tr>\n",
       "    <tr>\n",
       "      <th>2</th>\n",
       "      <td>6543</td>\n",
       "      <td>034545104X</td>\n",
       "      <td>0</td>\n",
       "      <td>Flesh Tones: A Novel</td>\n",
       "      <td>M. J. Rose</td>\n",
       "      <td>2002</td>\n",
       "      <td>Ballantine Books</td>\n",
       "    </tr>\n",
       "    <tr>\n",
       "      <th>3</th>\n",
       "      <td>8680</td>\n",
       "      <td>034545104X</td>\n",
       "      <td>5</td>\n",
       "      <td>Flesh Tones: A Novel</td>\n",
       "      <td>M. J. Rose</td>\n",
       "      <td>2002</td>\n",
       "      <td>Ballantine Books</td>\n",
       "    </tr>\n",
       "    <tr>\n",
       "      <th>4</th>\n",
       "      <td>10314</td>\n",
       "      <td>034545104X</td>\n",
       "      <td>9</td>\n",
       "      <td>Flesh Tones: A Novel</td>\n",
       "      <td>M. J. Rose</td>\n",
       "      <td>2002</td>\n",
       "      <td>Ballantine Books</td>\n",
       "    </tr>\n",
       "  </tbody>\n",
       "</table>\n",
       "</div>"
      ],
      "text/plain": [
       "   userId        ISBN  bookRating             bookTitle  bookAuthor  \\\n",
       "0  276725  034545104X  0           Flesh Tones: A Novel  M. J. Rose   \n",
       "1  2313    034545104X  5           Flesh Tones: A Novel  M. J. Rose   \n",
       "2  6543    034545104X  0           Flesh Tones: A Novel  M. J. Rose   \n",
       "3  8680    034545104X  5           Flesh Tones: A Novel  M. J. Rose   \n",
       "4  10314   034545104X  9           Flesh Tones: A Novel  M. J. Rose   \n",
       "\n",
       "   yearOfPublication         publisher  \n",
       "0  2002               Ballantine Books  \n",
       "1  2002               Ballantine Books  \n",
       "2  2002               Ballantine Books  \n",
       "3  2002               Ballantine Books  \n",
       "4  2002               Ballantine Books  "
      ]
     },
     "execution_count": 31,
     "metadata": {
      "tags": []
     },
     "output_type": "execute_result"
    }
   ],
   "source": [
    "rating_book.head()"
   ]
  },
  {
   "cell_type": "markdown",
   "metadata": {
    "colab_type": "text",
    "id": "pPfQ61ZewAc7"
   },
   "source": [
    "### **Keep merging the Tables...**"
   ]
  },
  {
   "cell_type": "code",
   "execution_count": 0,
   "metadata": {
    "colab": {},
    "colab_type": "code",
    "id": "OZ_ygWMOwFQr"
   },
   "outputs": [],
   "source": [
    "all_ratings = pd.merge(rating_book, users, on='userId')"
   ]
  },
  {
   "cell_type": "markdown",
   "metadata": {
    "colab_type": "text",
    "id": "dC2iop5rxgha"
   },
   "source": [
    "### **Check the new Data Set...**"
   ]
  },
  {
   "cell_type": "code",
   "execution_count": 0,
   "metadata": {
    "colab": {
     "base_uri": "https://localhost:8080/",
     "height": 293
    },
    "colab_type": "code",
    "id": "54OJWUiJxk_Y",
    "outputId": "34ac5e0c-093a-44c9-a503-e23cc35445c4"
   },
   "outputs": [
    {
     "data": {
      "text/html": [
       "<div>\n",
       "<style scoped>\n",
       "    .dataframe tbody tr th:only-of-type {\n",
       "        vertical-align: middle;\n",
       "    }\n",
       "\n",
       "    .dataframe tbody tr th {\n",
       "        vertical-align: top;\n",
       "    }\n",
       "\n",
       "    .dataframe thead th {\n",
       "        text-align: right;\n",
       "    }\n",
       "</style>\n",
       "<table border=\"1\" class=\"dataframe\">\n",
       "  <thead>\n",
       "    <tr style=\"text-align: right;\">\n",
       "      <th></th>\n",
       "      <th>userId</th>\n",
       "      <th>ISBN</th>\n",
       "      <th>bookRating</th>\n",
       "      <th>bookTitle</th>\n",
       "      <th>bookAuthor</th>\n",
       "      <th>yearOfPublication</th>\n",
       "      <th>publisher</th>\n",
       "      <th>location</th>\n",
       "      <th>age</th>\n",
       "    </tr>\n",
       "  </thead>\n",
       "  <tbody>\n",
       "    <tr>\n",
       "      <th>0</th>\n",
       "      <td>276725</td>\n",
       "      <td>034545104X</td>\n",
       "      <td>0</td>\n",
       "      <td>Flesh Tones: A Novel</td>\n",
       "      <td>M. J. Rose</td>\n",
       "      <td>2002</td>\n",
       "      <td>Ballantine Books</td>\n",
       "      <td>tyler, texas, usa</td>\n",
       "      <td>NaN</td>\n",
       "    </tr>\n",
       "    <tr>\n",
       "      <th>1</th>\n",
       "      <td>2313</td>\n",
       "      <td>034545104X</td>\n",
       "      <td>5</td>\n",
       "      <td>Flesh Tones: A Novel</td>\n",
       "      <td>M. J. Rose</td>\n",
       "      <td>2002</td>\n",
       "      <td>Ballantine Books</td>\n",
       "      <td>cincinnati, ohio, usa</td>\n",
       "      <td>23.0</td>\n",
       "    </tr>\n",
       "    <tr>\n",
       "      <th>2</th>\n",
       "      <td>2313</td>\n",
       "      <td>0812533550</td>\n",
       "      <td>9</td>\n",
       "      <td>Ender's Game (Ender Wiggins Saga (Paperback))</td>\n",
       "      <td>Orson Scott Card</td>\n",
       "      <td>1986</td>\n",
       "      <td>Tor Books</td>\n",
       "      <td>cincinnati, ohio, usa</td>\n",
       "      <td>23.0</td>\n",
       "    </tr>\n",
       "    <tr>\n",
       "      <th>3</th>\n",
       "      <td>2313</td>\n",
       "      <td>0679745580</td>\n",
       "      <td>8</td>\n",
       "      <td>In Cold Blood (Vintage International)</td>\n",
       "      <td>TRUMAN CAPOTE</td>\n",
       "      <td>1994</td>\n",
       "      <td>Vintage</td>\n",
       "      <td>cincinnati, ohio, usa</td>\n",
       "      <td>23.0</td>\n",
       "    </tr>\n",
       "    <tr>\n",
       "      <th>4</th>\n",
       "      <td>2313</td>\n",
       "      <td>0060173289</td>\n",
       "      <td>9</td>\n",
       "      <td>Divine Secrets of the Ya-Ya Sisterhood : A Novel</td>\n",
       "      <td>Rebecca Wells</td>\n",
       "      <td>1996</td>\n",
       "      <td>HarperCollins</td>\n",
       "      <td>cincinnati, ohio, usa</td>\n",
       "      <td>23.0</td>\n",
       "    </tr>\n",
       "  </tbody>\n",
       "</table>\n",
       "</div>"
      ],
      "text/plain": [
       "   userId        ISBN  bookRating  \\\n",
       "0  276725  034545104X  0            \n",
       "1  2313    034545104X  5            \n",
       "2  2313    0812533550  9            \n",
       "3  2313    0679745580  8            \n",
       "4  2313    0060173289  9            \n",
       "\n",
       "                                          bookTitle        bookAuthor  \\\n",
       "0  Flesh Tones: A Novel                              M. J. Rose         \n",
       "1  Flesh Tones: A Novel                              M. J. Rose         \n",
       "2  Ender's Game (Ender Wiggins Saga (Paperback))     Orson Scott Card   \n",
       "3  In Cold Blood (Vintage International)             TRUMAN CAPOTE      \n",
       "4  Divine Secrets of the Ya-Ya Sisterhood : A Novel  Rebecca Wells      \n",
       "\n",
       "   yearOfPublication         publisher               location   age  \n",
       "0  2002               Ballantine Books  tyler, texas, usa     NaN    \n",
       "1  2002               Ballantine Books  cincinnati, ohio, usa  23.0  \n",
       "2  1986               Tor Books         cincinnati, ohio, usa  23.0  \n",
       "3  1994               Vintage           cincinnati, ohio, usa  23.0  \n",
       "4  1996               HarperCollins     cincinnati, ohio, usa  23.0  "
      ]
     },
     "execution_count": 33,
     "metadata": {
      "tags": []
     },
     "output_type": "execute_result"
    }
   ],
   "source": [
    "all_ratings.head()"
   ]
  },
  {
   "cell_type": "markdown",
   "metadata": {
    "colab_type": "text",
    "id": "z-jdj5IueI5R"
   },
   "source": [
    "### **Some visual understanding of the Data...**"
   ]
  },
  {
   "cell_type": "code",
   "execution_count": 0,
   "metadata": {
    "colab": {},
    "colab_type": "code",
    "id": "mF47ZnyAYGxP"
   },
   "outputs": [],
   "source": [
    "import matplotlib.pyplot as plt\n",
    "import seaborn as sns"
   ]
  },
  {
   "cell_type": "code",
   "execution_count": 0,
   "metadata": {
    "colab": {
     "base_uri": "https://localhost:8080/",
     "height": 419
    },
    "colab_type": "code",
    "id": "7YPnrD35fjDy",
    "outputId": "58fc709f-1c81-4da1-b423-2af635c0137a"
   },
   "outputs": [
    {
     "name": "stderr",
     "output_type": "stream",
     "text": [
      "/usr/local/lib/python3.6/dist-packages/seaborn/categorical.py:1428: FutureWarning: remove_na is deprecated and is a private function. Do not use.\n",
      "  stat_data = remove_na(group_data)\n"
     ]
    },
    {
     "data": {
      "image/png": "[encoded data removed]",
      "text/plain": [
       "<matplotlib.figure.Figure at 0x7f79af5ea5f8>"
      ]
     },
     "metadata": {
      "tags": []
     },
     "output_type": "display_data"
    }
   ],
   "source": [
    "sns.countplot(all_ratings.bookRating)\n",
    "plt.show()"
   ]
  },
  {
   "cell_type": "markdown",
   "metadata": {
    "colab_type": "text",
    "id": "GKryxcdEjF6C"
   },
   "source": [
    "**We can see that the Dataset has a high degree of Sparcity... Lot's of Cero's \n",
    "As taken from the Book-Crossing Dataset information: **\n",
    "\n",
    "###**\"Ratings (`Book-Rating`) are either explicit, expressed on a scale from 1-10(higher values denoting higher appreciation), or implicit, expressed by 0.\" We may segmentate the data, into a ratings_explicit dataset, and a ratings_implicit dataset. **"
   ]
  },
  {
   "cell_type": "code",
   "execution_count": 0,
   "metadata": {
    "colab": {},
    "colab_type": "code",
    "id": "17vY2XX53D1G"
   },
   "outputs": [],
   "source": [
    "#Segragating implicit and explict ratings datasets\n",
    "ratings_explicit = all_ratings[all_ratings.bookRating != 0]\n",
    "ratings_implicit = all_ratings[all_ratings.bookRating == 0]\n"
   ]
  },
  {
   "cell_type": "code",
   "execution_count": 0,
   "metadata": {
    "colab": {
     "base_uri": "https://localhost:8080/",
     "height": 293
    },
    "colab_type": "code",
    "id": "jSolOuJM3Tn-",
    "outputId": "5f4c60f0-f387-42ad-ee67-174743da935b"
   },
   "outputs": [
    {
     "data": {
      "text/html": [
       "<div>\n",
       "<style scoped>\n",
       "    .dataframe tbody tr th:only-of-type {\n",
       "        vertical-align: middle;\n",
       "    }\n",
       "\n",
       "    .dataframe tbody tr th {\n",
       "        vertical-align: top;\n",
       "    }\n",
       "\n",
       "    .dataframe thead th {\n",
       "        text-align: right;\n",
       "    }\n",
       "</style>\n",
       "<table border=\"1\" class=\"dataframe\">\n",
       "  <thead>\n",
       "    <tr style=\"text-align: right;\">\n",
       "      <th></th>\n",
       "      <th>userId</th>\n",
       "      <th>ISBN</th>\n",
       "      <th>bookRating</th>\n",
       "      <th>bookTitle</th>\n",
       "      <th>bookAuthor</th>\n",
       "      <th>yearOfPublication</th>\n",
       "      <th>publisher</th>\n",
       "      <th>location</th>\n",
       "      <th>age</th>\n",
       "    </tr>\n",
       "  </thead>\n",
       "  <tbody>\n",
       "    <tr>\n",
       "      <th>1</th>\n",
       "      <td>2313</td>\n",
       "      <td>034545104X</td>\n",
       "      <td>5</td>\n",
       "      <td>Flesh Tones: A Novel</td>\n",
       "      <td>M. J. Rose</td>\n",
       "      <td>2002</td>\n",
       "      <td>Ballantine Books</td>\n",
       "      <td>cincinnati, ohio, usa</td>\n",
       "      <td>23.0</td>\n",
       "    </tr>\n",
       "    <tr>\n",
       "      <th>2</th>\n",
       "      <td>2313</td>\n",
       "      <td>0812533550</td>\n",
       "      <td>9</td>\n",
       "      <td>Ender's Game (Ender Wiggins Saga (Paperback))</td>\n",
       "      <td>Orson Scott Card</td>\n",
       "      <td>1986</td>\n",
       "      <td>Tor Books</td>\n",
       "      <td>cincinnati, ohio, usa</td>\n",
       "      <td>23.0</td>\n",
       "    </tr>\n",
       "    <tr>\n",
       "      <th>3</th>\n",
       "      <td>2313</td>\n",
       "      <td>0679745580</td>\n",
       "      <td>8</td>\n",
       "      <td>In Cold Blood (Vintage International)</td>\n",
       "      <td>TRUMAN CAPOTE</td>\n",
       "      <td>1994</td>\n",
       "      <td>Vintage</td>\n",
       "      <td>cincinnati, ohio, usa</td>\n",
       "      <td>23.0</td>\n",
       "    </tr>\n",
       "    <tr>\n",
       "      <th>4</th>\n",
       "      <td>2313</td>\n",
       "      <td>0060173289</td>\n",
       "      <td>9</td>\n",
       "      <td>Divine Secrets of the Ya-Ya Sisterhood : A Novel</td>\n",
       "      <td>Rebecca Wells</td>\n",
       "      <td>1996</td>\n",
       "      <td>HarperCollins</td>\n",
       "      <td>cincinnati, ohio, usa</td>\n",
       "      <td>23.0</td>\n",
       "    </tr>\n",
       "    <tr>\n",
       "      <th>5</th>\n",
       "      <td>2313</td>\n",
       "      <td>0385482388</td>\n",
       "      <td>5</td>\n",
       "      <td>The Mistress of Spices</td>\n",
       "      <td>Chitra Banerjee Divakaruni</td>\n",
       "      <td>1998</td>\n",
       "      <td>Anchor Books/Doubleday</td>\n",
       "      <td>cincinnati, ohio, usa</td>\n",
       "      <td>23.0</td>\n",
       "    </tr>\n",
       "  </tbody>\n",
       "</table>\n",
       "</div>"
      ],
      "text/plain": [
       "   userId        ISBN  bookRating  \\\n",
       "1  2313    034545104X  5            \n",
       "2  2313    0812533550  9            \n",
       "3  2313    0679745580  8            \n",
       "4  2313    0060173289  9            \n",
       "5  2313    0385482388  5            \n",
       "\n",
       "                                          bookTitle  \\\n",
       "1  Flesh Tones: A Novel                               \n",
       "2  Ender's Game (Ender Wiggins Saga (Paperback))      \n",
       "3  In Cold Blood (Vintage International)              \n",
       "4  Divine Secrets of the Ya-Ya Sisterhood : A Novel   \n",
       "5  The Mistress of Spices                             \n",
       "\n",
       "                   bookAuthor  yearOfPublication               publisher  \\\n",
       "1  M. J. Rose                  2002               Ballantine Books         \n",
       "2  Orson Scott Card            1986               Tor Books                \n",
       "3  TRUMAN CAPOTE               1994               Vintage                  \n",
       "4  Rebecca Wells               1996               HarperCollins            \n",
       "5  Chitra Banerjee Divakaruni  1998               Anchor Books/Doubleday   \n",
       "\n",
       "                location   age  \n",
       "1  cincinnati, ohio, usa  23.0  \n",
       "2  cincinnati, ohio, usa  23.0  \n",
       "3  cincinnati, ohio, usa  23.0  \n",
       "4  cincinnati, ohio, usa  23.0  \n",
       "5  cincinnati, ohio, usa  23.0  "
      ]
     },
     "execution_count": 37,
     "metadata": {
      "tags": []
     },
     "output_type": "execute_result"
    }
   ],
   "source": [
    "ratings_explicit.head()"
   ]
  },
  {
   "cell_type": "code",
   "execution_count": 0,
   "metadata": {
    "colab": {
     "base_uri": "https://localhost:8080/",
     "height": 74
    },
    "colab_type": "code",
    "id": "jDSY_h3W4gyv",
    "outputId": "a73f8220-3676-4139-a839-1b9c77d097cf"
   },
   "outputs": [
    {
     "name": "stdout",
     "output_type": "stream",
     "text": [
      "(1031136, 9)\n",
      "(383842, 9)\n",
      "(647294, 9)\n"
     ]
    }
   ],
   "source": [
    "print (all_ratings.shape)\n",
    "print (ratings_explicit.shape)\n",
    "print (ratings_implicit.shape)"
   ]
  },
  {
   "cell_type": "markdown",
   "metadata": {
    "colab_type": "text",
    "id": "PIFoeePNyYSE"
   },
   "source": [
    "### Load up** Fast.ai** We can try two versions... one with all_ratings(Explicit, and Implicit), and see if it works, and another without the Implicit ratings... just using the explicit_ratings one... Then, we could in production keep making new ratings lots with books that were not rated and now are, and feed them back to our explicit_ratings learner data bunch... "
   ]
  },
  {
   "cell_type": "code",
   "execution_count": 0,
   "metadata": {
    "colab": {},
    "colab_type": "code",
    "id": "-wa1LZxJxyks"
   },
   "outputs": [],
   "source": [
    "from fastai import *\n",
    "from fastai.collab import *"
   ]
  },
  {
   "cell_type": "markdown",
   "metadata": {
    "colab_type": "text",
    "id": "hZGcTf32ztiI"
   },
   "source": [
    "### **Create a CollabDataBunch with All_ratings...**"
   ]
  },
  {
   "cell_type": "code",
   "execution_count": 0,
   "metadata": {
    "colab": {},
    "colab_type": "code",
    "id": "q17N4VflzyPA"
   },
   "outputs": [],
   "source": [
    "data = CollabDataBunch.from_df(all_ratings, seed=42, pct_val=0.1, item_name=\"bookTitle\")"
   ]
  },
  {
   "cell_type": "code",
   "execution_count": 0,
   "metadata": {
    "colab": {
     "base_uri": "https://localhost:8080/",
     "height": 593
    },
    "colab_type": "code",
    "id": "7vtznEzh1QC3",
    "outputId": "53efc6ce-a58e-4a58-b8fb-a79cdd641a0c"
   },
   "outputs": [
    {
     "data": {
      "text/html": [
       "<table>  <col width='10px'>  <col width='10px'>  <col width='10px'>  <tr>\n",
       "    <th>userId</th>\n",
       "    <th>bookTitle</th>\n",
       "    <th>target</th>\n",
       "  </tr>\n",
       "  <tr>\n",
       "    <th>71102</th>\n",
       "    <th>Zen and the Art of Motorcycle Maintenance: An Inquiry into Values</th>\n",
       "    <th>8.0</th>\n",
       "  </tr>\n",
       "  <tr>\n",
       "    <th>245963</th>\n",
       "    <th>The Richest Man in Babylon</th>\n",
       "    <th>0.0</th>\n",
       "  </tr>\n",
       "  <tr>\n",
       "    <th>110973</th>\n",
       "    <th>Double Down</th>\n",
       "    <th>0.0</th>\n",
       "  </tr>\n",
       "  <tr>\n",
       "    <th>272001</th>\n",
       "    <th>When Elephants Weep: The Emotional Lives of Animals</th>\n",
       "    <th>0.0</th>\n",
       "  </tr>\n",
       "  <tr>\n",
       "    <th>98391</th>\n",
       "    <th>Those Who Walk in Darkness</th>\n",
       "    <th>10.0</th>\n",
       "  </tr>\n",
       "  <tr>\n",
       "    <th>63938</th>\n",
       "    <th>Songs of the Humpback Whale : A Novel in Five Voices</th>\n",
       "    <th>0.0</th>\n",
       "  </tr>\n",
       "  <tr>\n",
       "    <th>231857</th>\n",
       "    <th>Star Wars Episode I: The Phantom Menace</th>\n",
       "    <th>5.0</th>\n",
       "  </tr>\n",
       "  <tr>\n",
       "    <th>275677</th>\n",
       "    <th>The House of Whacks</th>\n",
       "    <th>0.0</th>\n",
       "  </tr>\n",
       "</table>\n"
      ],
      "text/plain": [
       "<IPython.core.display.HTML object>"
      ]
     },
     "metadata": {
      "tags": []
     },
     "output_type": "display_data"
    }
   ],
   "source": [
    "data.show_batch()"
   ]
  },
  {
   "cell_type": "markdown",
   "metadata": {
    "colab_type": "text",
    "id": "uYwYEANN6SSY"
   },
   "source": [
    "### **Create a Collab_learner**"
   ]
  },
  {
   "cell_type": "code",
   "execution_count": 0,
   "metadata": {
    "colab": {},
    "colab_type": "code",
    "id": "y9ZXoU9WiWKQ"
   },
   "outputs": [],
   "source": [
    "learn = collab_learner(data, n_factors=20,  y_range=(0.,10.0), wd=1e-1)"
   ]
  },
  {
   "cell_type": "code",
   "execution_count": 0,
   "metadata": {
    "colab": {
     "base_uri": "https://localhost:8080/",
     "height": 112
    },
    "colab_type": "code",
    "id": "jLrb5idCiWtd",
    "outputId": "da8b3772-59f6-4743-80c4-e2f07d90f645"
   },
   "outputs": [
    {
     "data": {
      "text/html": [
       "\n",
       "    <div>\n",
       "        <style>\n",
       "        \t/* Turns off some styling */\n",
       "        \tprogress {\n",
       "\n",
       "            \t/* gets rid of default border in Firefox and Opera. */\n",
       "            \tborder: none;\n",
       "\n",
       "            \t/* Needs to be in here for Safari polyfill so background images work as expected. */\n",
       "            \tbackground-size: auto;\n",
       "            }\n",
       "\n",
       "            .progress-bar-interrupted, .progress-bar-interrupted::-webkit-progress-bar {\n",
       "                background: #F44336;\n",
       "            }\n",
       "        </style>\n",
       "      <progress value='0' class='' max='1', style='width:300px; height:20px; vertical-align: middle;'></progress>\n",
       "      0.00% [0/1 00:00<00:00]\n",
       "    </div>\n",
       "    \n",
       "<table style='width:300px; margin-bottom:10px'>\n",
       "  <tr>\n",
       "    <th>epoch</th>\n",
       "    <th>train_loss</th>\n",
       "    <th>valid_loss</th>\n",
       "  </tr>\n",
       "  <tr>\n",
       "\n",
       "  </tr>\n",
       "</table>\n",
       "\n",
       "\n",
       "    <div>\n",
       "        <style>\n",
       "        \t/* Turns off some styling */\n",
       "        \tprogress {\n",
       "\n",
       "            \t/* gets rid of default border in Firefox and Opera. */\n",
       "            \tborder: none;\n",
       "\n",
       "            \t/* Needs to be in here for Safari polyfill so background images work as expected. */\n",
       "            \tbackground-size: auto;\n",
       "            }\n",
       "\n",
       "            .progress-bar-interrupted, .progress-bar-interrupted::-webkit-progress-bar {\n",
       "                background: #F44336;\n",
       "            }\n",
       "        </style>\n",
       "      <progress value='0' class='progress-bar-interrupted' max='14501', style='width:300px; height:20px; vertical-align: middle;'></progress>\n",
       "      Interrupted\n",
       "    </div>\n",
       "    "
      ],
      "text/plain": [
       "<IPython.core.display.HTML object>"
      ]
     },
     "metadata": {
      "tags": []
     },
     "output_type": "display_data"
    },
    {
     "name": "stdout",
     "output_type": "stream",
     "text": [
      "LR Finder is complete, type {learner_name}.recorder.plot() to see the graph.\n"
     ]
    }
   ],
   "source": [
    "learn.lr_find()"
   ]
  },
  {
   "cell_type": "code",
   "execution_count": 0,
   "metadata": {
    "colab": {
     "base_uri": "https://localhost:8080/",
     "height": 361
    },
    "colab_type": "code",
    "id": "09XXahsPiXQW",
    "outputId": "7a580002-fd3f-4aff-fa60-80c4536388f0"
   },
   "outputs": [
    {
     "data": {
      "image/png": "[encoded data removed]",
      "text/plain": [
       "<matplotlib.figure.Figure at 0x7f79580b73c8>"
      ]
     },
     "metadata": {
      "tags": []
     },
     "output_type": "display_data"
    }
   ],
   "source": [
    "learn.recorder.plot()"
   ]
  },
  {
   "cell_type": "markdown",
   "metadata": {
    "colab_type": "text",
    "id": "VYL8o5xrll24"
   },
   "source": [
    "###**Using Fit 20 factors... we see in the plot that we could use the Learning Rate...**"
   ]
  },
  {
   "cell_type": "code",
   "execution_count": 0,
   "metadata": {
    "colab": {
     "base_uri": "https://localhost:8080/",
     "height": 168
    },
    "colab_type": "code",
    "id": "4dHvhYwelvr9",
    "outputId": "4c62a434-4e0d-4f52-efe8-7d4183c50713"
   },
   "outputs": [
    {
     "name": "stdout",
     "output_type": "stream",
     "text": [
      "Total time: 17:42\n",
      "epoch  train_loss  valid_loss\n",
      "1      13.958359   13.910300   (03:30)\n",
      "2      14.064446   14.072110   (03:40)\n",
      "3      14.053277   13.900313   (03:28)\n",
      "4      13.010854   13.413743   (03:28)\n",
      "5      12.880614   13.062511   (03:34)\n",
      "\n"
     ]
    }
   ],
   "source": [
    "learn.fit_one_cycle(5, 5e-2)"
   ]
  },
  {
   "cell_type": "code",
   "execution_count": 0,
   "metadata": {
    "colab": {},
    "colab_type": "code",
    "id": "bRDOB3JQ6zwO"
   },
   "outputs": [],
   "source": [
    "learn.save('all_ratings_fit1')"
   ]
  },
  {
   "cell_type": "code",
   "execution_count": 0,
   "metadata": {
    "colab": {},
    "colab_type": "code",
    "id": "JoPQ56ZsUyoD"
   },
   "outputs": [],
   "source": [
    "data = CollabDataBunch.from_df(ratings_explicit, seed=42, pct_val=0.1, item_name=\"bookTitle\")"
   ]
  },
  {
   "cell_type": "markdown",
   "metadata": {
    "colab_type": "text",
    "id": "ScfbONwOYCRr"
   },
   "source": [
    "### **Create a CollabDataBunch with ratings_explicit...**"
   ]
  },
  {
   "cell_type": "code",
   "execution_count": 0,
   "metadata": {
    "colab": {
     "base_uri": "https://localhost:8080/",
     "height": 385
    },
    "colab_type": "code",
    "id": "rPORv56sYZJM",
    "outputId": "d8801fef-f160-4419-f814-5357416568bf"
   },
   "outputs": [
    {
     "data": {
      "text/html": [
       "<table>  <col width='10px'>  <col width='10px'>  <col width='10px'>  <tr>\n",
       "    <th>userId</th>\n",
       "    <th>bookTitle</th>\n",
       "    <th>target</th>\n",
       "  </tr>\n",
       "  <tr>\n",
       "    <th>178130</th>\n",
       "    <th>All the Winters That Have Been</th>\n",
       "    <th>10.0</th>\n",
       "  </tr>\n",
       "  <tr>\n",
       "    <th>238080</th>\n",
       "    <th>The Run: A Novel</th>\n",
       "    <th>6.0</th>\n",
       "  </tr>\n",
       "  <tr>\n",
       "    <th>138543</th>\n",
       "    <th>Halloween Party</th>\n",
       "    <th>10.0</th>\n",
       "  </tr>\n",
       "  <tr>\n",
       "    <th>105360</th>\n",
       "    <th>Shadows</th>\n",
       "    <th>10.0</th>\n",
       "  </tr>\n",
       "  <tr>\n",
       "    <th>271195</th>\n",
       "    <th>The Haunted Mask (Goosebumps, No 11)</th>\n",
       "    <th>7.0</th>\n",
       "  </tr>\n",
       "  <tr>\n",
       "    <th>109247</th>\n",
       "    <th>El actor y los demÃ¡s (Laia/literatura)</th>\n",
       "    <th>9.0</th>\n",
       "  </tr>\n",
       "  <tr>\n",
       "    <th>232522</th>\n",
       "    <th>Filthy (Fantagraphics)</th>\n",
       "    <th>8.0</th>\n",
       "  </tr>\n",
       "  <tr>\n",
       "    <th>98887</th>\n",
       "    <th>The Murder on the Links</th>\n",
       "    <th>7.0</th>\n",
       "  </tr>\n",
       "</table>\n"
      ],
      "text/plain": [
       "<IPython.core.display.HTML object>"
      ]
     },
     "metadata": {
      "tags": []
     },
     "output_type": "display_data"
    }
   ],
   "source": [
    "data.show_batch()"
   ]
  },
  {
   "cell_type": "markdown",
   "metadata": {
    "colab_type": "text",
    "id": "uR_ZtNzEYmg3"
   },
   "source": [
    "### **Create a Collab_learner**"
   ]
  },
  {
   "cell_type": "code",
   "execution_count": 0,
   "metadata": {
    "colab": {},
    "colab_type": "code",
    "id": "lqIk7B_JYn-m"
   },
   "outputs": [],
   "source": [
    "learn = collab_learner(data, n_factors=20,  y_range=(1.0,10.0), wd=1e-1)"
   ]
  },
  {
   "cell_type": "code",
   "execution_count": 0,
   "metadata": {
    "colab": {
     "base_uri": "https://localhost:8080/",
     "height": 112
    },
    "colab_type": "code",
    "id": "-A5cmfH4Y2I5",
    "outputId": "659261d0-63d4-4ff3-c4b6-68fc33825e03"
   },
   "outputs": [
    {
     "data": {
      "text/html": [
       "\n",
       "    <div>\n",
       "        <style>\n",
       "        \t/* Turns off some styling */\n",
       "        \tprogress {\n",
       "\n",
       "            \t/* gets rid of default border in Firefox and Opera. */\n",
       "            \tborder: none;\n",
       "\n",
       "            \t/* Needs to be in here for Safari polyfill so background images work as expected. */\n",
       "            \tbackground-size: auto;\n",
       "            }\n",
       "\n",
       "            .progress-bar-interrupted, .progress-bar-interrupted::-webkit-progress-bar {\n",
       "                background: #F44336;\n",
       "            }\n",
       "        </style>\n",
       "      <progress value='0' class='' max='1', style='width:300px; height:20px; vertical-align: middle;'></progress>\n",
       "      0.00% [0/1 00:00<00:00]\n",
       "    </div>\n",
       "    \n",
       "<table style='width:300px; margin-bottom:10px'>\n",
       "  <tr>\n",
       "    <th>epoch</th>\n",
       "    <th>train_loss</th>\n",
       "    <th>valid_loss</th>\n",
       "  </tr>\n",
       "  <tr>\n",
       "\n",
       "  </tr>\n",
       "</table>\n",
       "\n",
       "\n",
       "    <div>\n",
       "        <style>\n",
       "        \t/* Turns off some styling */\n",
       "        \tprogress {\n",
       "\n",
       "            \t/* gets rid of default border in Firefox and Opera. */\n",
       "            \tborder: none;\n",
       "\n",
       "            \t/* Needs to be in here for Safari polyfill so background images work as expected. */\n",
       "            \tbackground-size: auto;\n",
       "            }\n",
       "\n",
       "            .progress-bar-interrupted, .progress-bar-interrupted::-webkit-progress-bar {\n",
       "                background: #F44336;\n",
       "            }\n",
       "        </style>\n",
       "      <progress value='0' class='progress-bar-interrupted' max='5398', style='width:300px; height:20px; vertical-align: middle;'></progress>\n",
       "      Interrupted\n",
       "    </div>\n",
       "    "
      ],
      "text/plain": [
       "<IPython.core.display.HTML object>"
      ]
     },
     "metadata": {
      "tags": []
     },
     "output_type": "display_data"
    },
    {
     "name": "stdout",
     "output_type": "stream",
     "text": [
      "LR Finder is complete, type {learner_name}.recorder.plot() to see the graph.\n"
     ]
    }
   ],
   "source": [
    "learn.lr_find()"
   ]
  },
  {
   "cell_type": "code",
   "execution_count": 0,
   "metadata": {
    "colab": {
     "base_uri": "https://localhost:8080/",
     "height": 361
    },
    "colab_type": "code",
    "id": "tAomgts2Y6KU",
    "outputId": "a592b41a-7a50-4593-9c43-14efe0fd75d3"
   },
   "outputs": [
    {
     "data": {
      "image/png": "[encoded data removed]",
      "text/plain": [
       "<matplotlib.figure.Figure at 0x7f7957ff2c88>"
      ]
     },
     "metadata": {
      "tags": []
     },
     "output_type": "display_data"
    }
   ],
   "source": [
    "learn.recorder.plot()"
   ]
  },
  {
   "cell_type": "code",
   "execution_count": 0,
   "metadata": {
    "colab": {
     "base_uri": "https://localhost:8080/",
     "height": 168
    },
    "colab_type": "code",
    "id": "Uo9g3XLcZE5A",
    "outputId": "bd5ad664-1c2c-4bf9-d4df-41453773c71c"
   },
   "outputs": [
    {
     "name": "stdout",
     "output_type": "stream",
     "text": [
      "Total time: 05:51\n",
      "epoch  train_loss  valid_loss\n",
      "1      4.813422    4.778702    (01:11)\n",
      "2      4.268429    4.348775    (01:13)\n",
      "3      4.270705    4.282096    (01:12)\n",
      "4      3.963246    4.242239    (01:08)\n",
      "5      3.662395    4.237848    (01:05)\n",
      "\n"
     ]
    }
   ],
   "source": [
    "learn.fit_one_cycle(5, 5e-3)"
   ]
  },
  {
   "cell_type": "code",
   "execution_count": 0,
   "metadata": {
    "colab": {},
    "colab_type": "code",
    "id": "yj188VgNbuHE"
   },
   "outputs": [],
   "source": [
    "learn.save('ratings_explicit_fit1')"
   ]
  },
  {
   "cell_type": "code",
   "execution_count": 0,
   "metadata": {
    "colab": {
     "base_uri": "https://localhost:8080/",
     "height": 528
    },
    "colab_type": "code",
    "id": "WjDfTds09_oD",
    "outputId": "f4ebd2a9-29d9-4013-caf4-e6ccce629123"
   },
   "outputs": [
    {
     "data": {
      "text/plain": [
       "CollabLearner(data=TabularDataBunch;\n",
       "Train: LabelList\n",
       "y: FloatList (345458 items)\n",
       "[FloatItem 5.0, FloatItem 9.0, FloatItem 8.0, FloatItem 9.0, FloatItem 5.0]...\n",
       "Path: .\n",
       "x: CollabList (345458 items)\n",
       "[CollabLine userId 2313; bookTitle Flesh Tones: A Novel; , CollabLine userId 2313; bookTitle Ender's Game (Ender Wiggins Saga (Paperback)); , CollabLine userId 2313; bookTitle In Cold Blood (Vintage International); , CollabLine userId 2313; bookTitle Divine Secrets of the Ya-Ya Sisterhood : A Novel; , CollabLine userId 2313; bookTitle The Mistress of Spices; ]...\n",
       "Path: .;\n",
       "Valid: LabelList\n",
       "y: FloatList (38384 items)\n",
       "[FloatItem 9.0, FloatItem 6.0, FloatItem 9.0, FloatItem 10.0, FloatItem 9.0]...\n",
       "Path: .\n",
       "x: CollabList (38384 items)\n",
       "[CollabLine userId 248479; bookTitle What to Expect When You're Expecting, Third Edition; , CollabLine userId 6789; bookTitle Miss Zukas Shelves the Evidence (Miss Zukas Mysteries); , CollabLine userId 136348; bookTitle A Tree Grows in Brooklyn; , CollabLine userId 2110; bookTitle The Time Machine; , CollabLine userId 100906; bookTitle #na#; ]...\n",
       "Path: .;\n",
       "Test: None, model=EmbeddingDotBias(\n",
       "  (u_weight): Embedding(64126, 20)\n",
       "  (i_weight): Embedding(126487, 20)\n",
       "  (u_bias): Embedding(64126, 1)\n",
       "  (i_bias): Embedding(126487, 1)\n",
       "), opt_func=functools.partial(<class 'torch.optim.adam.Adam'>, betas=(0.9, 0.99)), loss_func=MSELossFlat(), metrics=[], true_wd=True, bn_wd=True, wd=0.1, train_bn=True, path=PosixPath('.'), model_dir='models', callback_fns=[<class 'fastai.basic_train.Recorder'>], callbacks=[], layer_groups=[Sequential(\n",
       "  (0): Embedding(64126, 20)\n",
       "  (1): Embedding(126487, 20)\n",
       "  (2): Embedding(64126, 1)\n",
       "  (3): Embedding(126487, 1)\n",
       ")])"
      ]
     },
     "execution_count": 54,
     "metadata": {
      "tags": []
     },
     "output_type": "execute_result"
    }
   ],
   "source": [
    "learn.load('ratings_explicit_fit1')"
   ]
  },
  {
   "cell_type": "code",
   "execution_count": 0,
   "metadata": {
    "colab": {
     "base_uri": "https://localhost:8080/",
     "height": 130
    },
    "colab_type": "code",
    "id": "rXGZ8HI_-Esc",
    "outputId": "b993cfea-8096-4521-ea35-d689f0670b5b"
   },
   "outputs": [
    {
     "data": {
      "text/plain": [
       "EmbeddingDotBias(\n",
       "  (u_weight): Embedding(64126, 20)\n",
       "  (i_weight): Embedding(126487, 20)\n",
       "  (u_bias): Embedding(64126, 1)\n",
       "  (i_bias): Embedding(126487, 1)\n",
       ")"
      ]
     },
     "execution_count": 55,
     "metadata": {
      "tags": []
     },
     "output_type": "execute_result"
    }
   ],
   "source": [
    "learn.model"
   ]
  },
  {
   "cell_type": "markdown",
   "metadata": {
    "colab_type": "text",
    "id": "tevm3jFMAWn1"
   },
   "source": [
    "## **Top Rated Books**"
   ]
  },
  {
   "cell_type": "code",
   "execution_count": 0,
   "metadata": {
    "colab": {
     "base_uri": "https://localhost:8080/",
     "height": 74
    },
    "colab_type": "code",
    "id": "5_JfvENA8z8-",
    "outputId": "d8f7d7f0-09b4-470d-b2ce-a96f7fa1391a"
   },
   "outputs": [
    {
     "data": {
      "text/plain": [
       "array(['The Lovely Bones: A Novel', 'Wild Animus', 'The Da Vinci Code', 'The Secret Life of Bees',\n",
       "       'The Nanny Diaries: A Novel', 'The Red Tent (Bestselling Backlist)', \"Bridget Jones's Diary\", 'A Painted House',\n",
       "       'Life of Pi', 'Harry Potter and the Chamber of Secrets (Book 2)'], dtype=object)"
      ]
     },
     "execution_count": 56,
     "metadata": {
      "tags": []
     },
     "output_type": "execute_result"
    }
   ],
   "source": [
    "g = ratings_explicit.groupby(ratings_explicit.bookTitle)['bookRating'].count()\n",
    "top_books = g.sort_values(ascending=False).index.values[:1000]\n",
    "top_books[:10]"
   ]
  },
  {
   "cell_type": "markdown",
   "metadata": {
    "colab_type": "text",
    "id": "QtY5CV1sAbij"
   },
   "source": [
    " ## **Book Bias**"
   ]
  },
  {
   "cell_type": "code",
   "execution_count": 0,
   "metadata": {
    "colab": {
     "base_uri": "https://localhost:8080/",
     "height": 36
    },
    "colab_type": "code",
    "id": "3G9y46CUAnKt",
    "outputId": "3b6b0031-2980-461f-deda-6fd4034b8e1d"
   },
   "outputs": [
    {
     "data": {
      "text/plain": [
       "torch.Size([1000])"
      ]
     },
     "execution_count": 57,
     "metadata": {
      "tags": []
     },
     "output_type": "execute_result"
    }
   ],
   "source": [
    "book_bias = learn.bias(top_books, is_item=True)\n",
    "book_bias.shape"
   ]
  },
  {
   "cell_type": "code",
   "execution_count": 0,
   "metadata": {
    "colab": {},
    "colab_type": "code",
    "id": "6kM85CrfBZF6"
   },
   "outputs": [],
   "source": [
    "mean_ratings = ratings_explicit.groupby(ratings_explicit.bookTitle)['bookRating'].mean()\n",
    "book_ratings = [(b, i, mean_ratings.loc[i]) for i,b in zip(top_books, book_bias)]"
   ]
  },
  {
   "cell_type": "code",
   "execution_count": 0,
   "metadata": {
    "colab": {},
    "colab_type": "code",
    "id": "bk8uyWl1DMrV"
   },
   "outputs": [],
   "source": [
    "item0 = lambda o:o[0]"
   ]
  },
  {
   "cell_type": "markdown",
   "metadata": {
    "colab_type": "text",
    "id": "MyGyziuhG-Np"
   },
   "source": [
    "## **The following Books are Biased, meaning rated better than expected... or something **"
   ]
  },
  {
   "cell_type": "code",
   "execution_count": 0,
   "metadata": {
    "colab": {
     "base_uri": "https://localhost:8080/",
     "height": 451
    },
    "colab_type": "code",
    "id": "Pdnm7UTxDYUz",
    "outputId": "9d0ea80a-ba23-43e9-a5c5-e7a2343ad91f"
   },
   "outputs": [
    {
     "data": {
      "text/plain": [
       "[(tensor(-0.2808), 'Wild Animus', 4.3907056798623065),\n",
       " (tensor(-0.0907), 'Four Blondes', 5.393939393939394),\n",
       " (tensor(-0.0460), 'Isle of Dogs', 5.433962264150943),\n",
       " (tensor(-7.6495e-05), '4 Blondes', 5.653846153846154),\n",
       " (tensor(0.0160), 'Violin', 6.1063829787234045),\n",
       " (tensor(0.0230), 'My Gal Sunday', 6.607843137254902),\n",
       " (tensor(0.0341), 'Sex &amp; the City', 6.184210526315789),\n",
       " (tensor(0.0354), \"Dr. Atkins' New Diet Revolution\", 6.813953488372093),\n",
       " (tensor(0.0374),\n",
       "  'Forever... : A Novel of Good and Evil, Love and Hope',\n",
       "  6.945945945945946),\n",
       " (tensor(0.0401),\n",
       "  'Rush Limbaugh Is a Big Fat Idiot: And Other Observations',\n",
       "  7.243243243243243),\n",
       " (tensor(0.0439),\n",
       "  'Scarlett : The Sequel to Margaret Mitchell\\'s \\\\Gone With the Wind\\\\\"\"',\n",
       "  7.0),\n",
       " (tensor(0.0554), 'Wifey', 6.696428571428571),\n",
       " (tensor(0.0598), 'The Cat Who Brought Down the House', 7.055555555555555),\n",
       " (tensor(0.0671),\n",
       "  \"Full Tilt (Janet Evanovich's Full Series)\",\n",
       "  6.568627450980392),\n",
       " (tensor(0.0710), 'The Little Friend', 6.2727272727272725)]"
      ]
     },
     "execution_count": 60,
     "metadata": {
      "tags": []
     },
     "output_type": "execute_result"
    }
   ],
   "source": [
    "sorted(book_ratings, key=item0)[:15]"
   ]
  },
  {
   "cell_type": "code",
   "execution_count": 0,
   "metadata": {
    "colab": {
     "base_uri": "https://localhost:8080/",
     "height": 564
    },
    "colab_type": "code",
    "id": "YjF8iA7EEn5U",
    "outputId": "aca1b508-2652-43ed-969f-72c6d402bc1a"
   },
   "outputs": [
    {
     "data": {
      "text/plain": [
       "[(tensor(0.8189),\n",
       "  \"Harry Potter and the Sorcerer's Stone (Harry Potter (Paperback))\",\n",
       "  8.936507936507937),\n",
       " (tensor(0.8166), 'To Kill a Mockingbird', 8.97752808988764),\n",
       " (tensor(0.8069), 'The Secret Life of Bees', 8.47783251231527),\n",
       " (tensor(0.7935), 'The Lovely Bones: A Novel', 8.185289957567186),\n",
       " (tensor(0.7649), 'The Da Vinci Code', 8.43927125506073),\n",
       " (tensor(0.7386),\n",
       "  \"Tuesdays with Morrie: An Old Man, a Young Man, and Life's Greatest Lesson\",\n",
       "  8.588),\n",
       " (tensor(0.7253),\n",
       "  'Harry Potter and the Chamber of Secrets (Book 2)',\n",
       "  8.840490797546012),\n",
       " (tensor(0.7164),\n",
       "  \"Ender's Game (Ender Wiggins Saga (Paperback))\",\n",
       "  8.920529801324504),\n",
       " (tensor(0.7081),\n",
       "  'Harry Potter and the Prisoner of Azkaban (Book 3)',\n",
       "  9.04332129963899),\n",
       " (tensor(0.6696), 'Fahrenheit 451', 8.549019607843137),\n",
       " (tensor(0.6555), 'A Prayer for Owen Meany', 8.615384615384615),\n",
       " (tensor(0.6460), 'The Red Tent (Bestselling Backlist)', 8.182767624020888),\n",
       " (tensor(0.6443), '1984', 8.784722222222221),\n",
       " (tensor(0.6326),\n",
       "  \"Where the Heart Is (Oprah's Book Club (Paperback))\",\n",
       "  8.142372881355932),\n",
       " (tensor(0.6316),\n",
       "  'Harry Potter and the Order of the Phoenix (Book 5)',\n",
       "  9.04739336492891)]"
      ]
     },
     "execution_count": 61,
     "metadata": {
      "tags": []
     },
     "output_type": "execute_result"
    }
   ],
   "source": [
    "sorted(book_ratings, key=lambda o: o[0], reverse=True)[:15]"
   ]
  },
  {
   "cell_type": "markdown",
   "metadata": {
    "colab_type": "text",
    "id": "fxDQT2CHHZbu"
   },
   "source": [
    "## **Book Weights** \n",
    "### These are the weights used for our Learner in n_factors...in which case we used 20, so there should be 20 weights, or factors. "
   ]
  },
  {
   "cell_type": "code",
   "execution_count": 0,
   "metadata": {
    "colab": {
     "base_uri": "https://localhost:8080/",
     "height": 36
    },
    "colab_type": "code",
    "id": "uSel9GWqG62M",
    "outputId": "64650c09-ecb9-4132-8518-0a175e14dee9"
   },
   "outputs": [
    {
     "data": {
      "text/plain": [
       "torch.Size([1000, 20])"
      ]
     },
     "execution_count": 65,
     "metadata": {
      "tags": []
     },
     "output_type": "execute_result"
    }
   ],
   "source": [
    "book_weights = learn.weight(top_books, is_item=True)\n",
    "book_weights.shape"
   ]
  },
  {
   "cell_type": "markdown",
   "metadata": {
    "colab_type": "text",
    "id": "wWpOPRa_IDer"
   },
   "source": [
    "### **Fed it 1000 of the items, and we asked for n_factors = 20, as we can see, the torch size is 1000 x 20...**"
   ]
  },
  {
   "cell_type": "markdown",
   "metadata": {
    "colab_type": "text",
    "id": "mZeTEJrMMt_d"
   },
   "source": [
    "### Too many embeddings to analyse, we will focus on 3 factors....using Principal, Components, Analysis are also know as (PCA). \n"
   ]
  },
  {
   "cell_type": "code",
   "execution_count": 0,
   "metadata": {
    "colab": {
     "base_uri": "https://localhost:8080/",
     "height": 36
    },
    "colab_type": "code",
    "id": "s0u613vmMiLt",
    "outputId": "3cd32ea5-01aa-440e-a1e8-8679ae031a0b"
   },
   "outputs": [
    {
     "data": {
      "text/plain": [
       "torch.Size([1000, 3])"
      ]
     },
     "execution_count": 66,
     "metadata": {
      "tags": []
     },
     "output_type": "execute_result"
    }
   ],
   "source": [
    "book_pca = book_weights.pca(3)\n",
    "book_pca.shape"
   ]
  },
  {
   "cell_type": "code",
   "execution_count": 0,
   "metadata": {
    "colab": {},
    "colab_type": "code",
    "id": "2R0WwKElhVFo"
   },
   "outputs": [],
   "source": [
    "fac0,fac1,fac2 = book_pca.t()\n",
    "book_comp = [(f, i) for f,i in zip(fac0, top_books)]"
   ]
  },
  {
   "cell_type": "markdown",
   "metadata": {
    "colab_type": "text",
    "id": "4eCSRf10m8z_"
   },
   "source": [
    "## **Feature 1**"
   ]
  },
  {
   "cell_type": "code",
   "execution_count": 0,
   "metadata": {
    "colab": {
     "base_uri": "https://localhost:8080/",
     "height": 262
    },
    "colab_type": "code",
    "id": "tKuOXkeXic-0",
    "outputId": "cc340c3b-3994-4e65-8b7f-f1a0a2b9e359"
   },
   "outputs": [
    {
     "data": {
      "text/plain": [
       "[(tensor(1.2206), 'The Two Towers (The Lord of the Rings, Part 2)'),\n",
       " (tensor(1.1755), 'Harry Potter and the Goblet of Fire (Book 4)'),\n",
       " (tensor(1.1582),\n",
       "  \"Harry Potter and the Sorcerer's Stone (Harry Potter (Paperback))\"),\n",
       " (tensor(1.1557), 'The Return of the King (The Lord of the Rings, Part 3)'),\n",
       " (tensor(1.0638), 'Harry Potter and the Prisoner of Azkaban (Book 3)'),\n",
       " (tensor(1.0539), \"Harry Potter and the Sorcerer's Stone (Book 1)\"),\n",
       " (tensor(0.9850),\n",
       "  'The Fellowship of the Ring (The Lord of the Rings, Part 1)'),\n",
       " (tensor(0.9296), 'To Kill a Mockingbird'),\n",
       " (tensor(0.9127),\n",
       "  'The Hobbit : The Enchanting Prelude to The Lord of the Rings'),\n",
       " (tensor(0.8830), 'Seabiscuit: An American Legend')]"
      ]
     },
     "execution_count": 68,
     "metadata": {
      "tags": []
     },
     "output_type": "execute_result"
    }
   ],
   "source": [
    "sorted(book_comp, key=itemgetter(0), reverse=True)[:10]"
   ]
  },
  {
   "cell_type": "markdown",
   "metadata": {
    "colab_type": "text",
    "id": "efZgqVbOjfMd"
   },
   "source": [
    "### The above books are the Highest ranked in the fac0 feature... They are all kind of Fantasy Novels, and Series of Fantasy. "
   ]
  },
  {
   "cell_type": "code",
   "execution_count": 0,
   "metadata": {
    "colab": {
     "base_uri": "https://localhost:8080/",
     "height": 206
    },
    "colab_type": "code",
    "id": "ZoOkGF4SjJhj",
    "outputId": "748ed59f-2020-409b-d559-c556017057ab"
   },
   "outputs": [
    {
     "data": {
      "text/plain": [
       "[(tensor(-1.8645), 'Wild Animus'),\n",
       " (tensor(-0.9931), 'Isle of Dogs'),\n",
       " (tensor(-0.9690), 'Russendisko.'),\n",
       " (tensor(-0.7946), '4 Blondes'),\n",
       " (tensor(-0.7720), 'Portrait of a Killer: Jack the Ripper -- Case Closed'),\n",
       " (tensor(-0.7419), 'Four Blondes'),\n",
       " (tensor(-0.6909), 'Free'),\n",
       " (tensor(-0.6705), 'Sex &amp; the City'),\n",
       " (tensor(-0.6513), 'While I Was Gone'),\n",
       " (tensor(-0.6430), 'High Maintenance')]"
      ]
     },
     "execution_count": 69,
     "metadata": {
      "tags": []
     },
     "output_type": "execute_result"
    }
   ],
   "source": [
    "sorted(book_comp, key=itemgetter(0))[:10]"
   ]
  },
  {
   "cell_type": "markdown",
   "metadata": {
    "colab_type": "text",
    "id": "eLGt6q01jrnA"
   },
   "source": [
    "### The above books are the lowest rank for the fac0 feature... they may refer to Sex and The City series, along with Four Blondes also writen by Sex and The City writer...\"Isle of Dogs\" is a 2018 stop-motion-animated science-fiction comedy-drama, maybe they all somewhat depict Women, and their roles on Society...etc. "
   ]
  },
  {
   "cell_type": "markdown",
   "metadata": {
    "colab_type": "text",
    "id": "w90_07Eumz3H"
   },
   "source": [
    "## **Feature 2**"
   ]
  },
  {
   "cell_type": "code",
   "execution_count": 0,
   "metadata": {
    "colab": {},
    "colab_type": "code",
    "id": "kBQ46jYAmxYe"
   },
   "outputs": [],
   "source": [
    "book_comp = [(f, i) for f,i in zip(fac1, top_books)]"
   ]
  },
  {
   "cell_type": "code",
   "execution_count": 0,
   "metadata": {
    "colab": {
     "base_uri": "https://localhost:8080/",
     "height": 243
    },
    "colab_type": "code",
    "id": "eTGhvr_knMAy",
    "outputId": "83f35b0d-3e8d-4953-82cf-9e25f2c7135e"
   },
   "outputs": [
    {
     "data": {
      "text/plain": [
       "[(tensor(0.6787), 'A Prayer for Owen Meany'),\n",
       " (tensor(0.6209), '1984'),\n",
       " (tensor(0.4718), 'Lolita (Vintage International)'),\n",
       " (tensor(0.4587),\n",
       "  'Lies and the Lying Liars Who Tell Them: A Fair and Balanced Look at the Right'),\n",
       " (tensor(0.4460),\n",
       "  \"Slaughterhouse Five or the Children's Crusade: A Duty Dance With Death\"),\n",
       " (tensor(0.4398), 'Me Talk Pretty One Day'),\n",
       " (tensor(0.4355), 'Horse Whisperer'),\n",
       " (tensor(0.4343), \"Ender's Game (Ender Wiggins Saga (Paperback))\"),\n",
       " (tensor(0.4290), 'Breathing Lessons'),\n",
       " (tensor(0.4250), \"Cat's Cradle\")]"
      ]
     },
     "execution_count": 71,
     "metadata": {
      "tags": []
     },
     "output_type": "execute_result"
    }
   ],
   "source": [
    "sorted(book_comp, key=itemgetter(0), reverse=True)[:10]"
   ]
  },
  {
   "cell_type": "markdown",
   "metadata": {
    "colab_type": "text",
    "id": "0ht1EecArPZo"
   },
   "source": [
    "### The above books have been Best Seller's "
   ]
  },
  {
   "cell_type": "code",
   "execution_count": 0,
   "metadata": {
    "colab": {
     "base_uri": "https://localhost:8080/",
     "height": 225
    },
    "colab_type": "code",
    "id": "6v85olLznb6u",
    "outputId": "8ae0be93-0501-4f9e-e0e4-d9c86e5a77ba"
   },
   "outputs": [
    {
     "data": {
      "text/plain": [
       "[(tensor(-0.7066), 'Summer Sisters'),\n",
       " (tensor(-0.6992), \"Suzanne's Diary for Nicholas\"),\n",
       " (tensor(-0.6474), 'The Lovely Bones: A Novel'),\n",
       " (tensor(-0.6417), 'The Five People You Meet in Heaven'),\n",
       " (tensor(-0.6106), 'The Beach House'),\n",
       " (tensor(-0.5976), 'The Rescue'),\n",
       " (tensor(-0.5914),\n",
       "  'Tribulation Force: The Continuing Drama of Those Left Behind (Left Behind No. 2)'),\n",
       " (tensor(-0.5785), 'The Firm'),\n",
       " (tensor(-0.5710), 'The Street Lawyer'),\n",
       " (tensor(-0.5642), 'The Rainmaker')]"
      ]
     },
     "execution_count": 72,
     "metadata": {
      "tags": []
     },
     "output_type": "execute_result"
    }
   ],
   "source": [
    "sorted(book_comp, key=itemgetter(0))[:10]"
   ]
  },
  {
   "cell_type": "markdown",
   "metadata": {
    "colab_type": "text",
    "id": "ScMUPUzerswY"
   },
   "source": [
    "### These are Diaries or Anecdotal novels, and a few novels about Lawyers. "
   ]
  },
  {
   "cell_type": "markdown",
   "metadata": {
    "colab_type": "text",
    "id": "XYajQxsZn4OH"
   },
   "source": [
    "## **Feature 3**"
   ]
  },
  {
   "cell_type": "code",
   "execution_count": 0,
   "metadata": {
    "colab": {},
    "colab_type": "code",
    "id": "FAPoGTIbn7uF"
   },
   "outputs": [],
   "source": [
    "book_comp = [(f, i) for f,i in zip(fac2, top_books)]"
   ]
  },
  {
   "cell_type": "code",
   "execution_count": 0,
   "metadata": {
    "colab": {
     "base_uri": "https://localhost:8080/",
     "height": 243
    },
    "colab_type": "code",
    "id": "ne_HeWvJoC-p",
    "outputId": "d7117eac-8701-496c-c875-7b5a4576377c"
   },
   "outputs": [
    {
     "data": {
      "text/plain": [
       "[(tensor(0.4497), 'The Red Tent (Bestselling Backlist)'),\n",
       " (tensor(0.4387), 'Harry Potter and the Chamber of Secrets (Book 2)'),\n",
       " (tensor(0.3732),\n",
       "  \"Harry Potter and the Sorcerer's Stone (Harry Potter (Paperback))\"),\n",
       " (tensor(0.3648),\n",
       "  'Tribulation Force: The Continuing Drama of Those Left Behind (Left Behind No. 2)'),\n",
       " (tensor(0.3475), 'The Hours: A Novel'),\n",
       " (tensor(0.3464), 'The Catcher in the Rye'),\n",
       " (tensor(0.3276), 'The Corrections: A Novel'),\n",
       " (tensor(0.3266), 'Me Talk Pretty One Day'),\n",
       " (tensor(0.3253), \"Sophie's World: A Novel About the History of Philosophy\"),\n",
       " (tensor(0.3229), \"Where the Heart Is (Oprah's Book Club (Paperback))\")]"
      ]
     },
     "execution_count": 74,
     "metadata": {
      "tags": []
     },
     "output_type": "execute_result"
    }
   ],
   "source": [
    "sorted(book_comp, key=itemgetter(0), reverse=True)[:10]"
   ]
  },
  {
   "cell_type": "code",
   "execution_count": 0,
   "metadata": {
    "colab": {
     "base_uri": "https://localhost:8080/",
     "height": 225
    },
    "colab_type": "code",
    "id": "l0-EWXHgoPPc",
    "outputId": "a1224a28-9898-40ab-ebb5-fc7e7dce3f2b"
   },
   "outputs": [
    {
     "data": {
      "text/plain": [
       "[(tensor(-0.6224), 'Angels &amp; Demons'),\n",
       " (tensor(-0.5869),\n",
       "  'The Hobbit : The Enchanting Prelude to The Lord of the Rings'),\n",
       " (tensor(-0.4992), 'Free'),\n",
       " (tensor(-0.4740), 'Girl with a Pearl Earring'),\n",
       " (tensor(-0.4665), 'The Alienist'),\n",
       " (tensor(-0.4663), 'The Lovely Bones: A Novel'),\n",
       " (tensor(-0.4552), 'The Da Vinci Code'),\n",
       " (tensor(-0.4363), 'The Horse Whisperer'),\n",
       " (tensor(-0.4351), 'A Time to Kill'),\n",
       " (tensor(-0.4206), 'Digital Fortress : A Thriller')]"
      ]
     },
     "execution_count": 75,
     "metadata": {
      "tags": []
     },
     "output_type": "execute_result"
    }
   ],
   "source": [
    "sorted(book_comp, key=itemgetter(0))[:10]"
   ]
  },
  {
   "cell_type": "markdown",
   "metadata": {
    "colab_type": "text",
    "id": "rd2nbymJoZyb"
   },
   "source": [
    "### The above are novels that are Thrillers, or High Emotional Drama. "
   ]
  }
 ],
 "metadata": {
  "accelerator": "GPU",
  "colab": {
   "collapsed_sections": [],
   "name": "Books-Recommendation System.ipynb",
   "provenance": [],
   "version": "0.3.2"
  },
  "kernelspec": {
   "display_name": "Python 3",
   "language": "python",
   "name": "python3"
  },
  "language_info": {
   "codemirror_mode": {
    "name": "ipython",
    "version": 3
   },
   "file_extension": ".py",
   "mimetype": "text/x-python",
   "name": "python",
   "nbconvert_exporter": "python",
   "pygments_lexer": "ipython3",
   "version": "3.6.7"
  },
  "varInspector": {
   "cols": {
    "lenName": 16,
    "lenType": 16,
    "lenVar": 40
   },
   "kernels_config": {
    "python": {
     "delete_cmd_postfix": "",
     "delete_cmd_prefix": "del ",
     "library": "var_list.py",
     "varRefreshCmd": "print(var_dic_list())"
    },
    "r": {
     "delete_cmd_postfix": ") ",
     "delete_cmd_prefix": "rm(",
     "library": "var_list.r",
     "varRefreshCmd": "cat(var_dic_list()) "
    }
   },
   "types_to_exclude": [
    "module",
    "function",
    "builtin_function_or_method",
    "instance",
    "_Feature"
   ],
   "window_display": false
  }
 },
 "nbformat": 4,
 "nbformat_minor": 1
}
